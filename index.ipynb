{
 "cells": [
  {
   "cell_type": "markdown",
   "metadata": {},
   "source": [
    "# SARIMA Models - Lab\n",
    "\n",
    "## Introduction\n",
    "\n",
    "In this lesson, we'll reiterate what you learned previously, and talk about **integrated** models (hence ARIMA, which means as much as **integrated** ARMA), and extend to models that can cope with seasonality of time series.\n",
    "\n",
    "## Objectives\n",
    "\n",
    "You will be able to: \n",
    "\n",
    "* Demonstrate a conceptual understanding of ARIMA modelling components for time-series forecasting\n",
    "* Pre-process the data to meet ARIMA based forecasting assumptions\n",
    "* Identify best model parameters using grid search for p,d,q and seasonal p,d,q parameters\n",
    "* Evaluate the ARIMA model with validation testing\n",
    "* Predict and visualize future values and calculate confidence level for the predictions \n",
    "\n",
    "## ARIMA\n",
    "\n",
    "Time series provide the opportunity to predict/forecast future values based on previous values. Such analyses can be used to forecast trends in economics, weather, and capacity planning etc. The specific properties of time-series data mean that specialized statistical methods are usually required.\n",
    "\n",
    "So far, we have seen different techniques to make time series stationary, as well as White Noise, Moving Average, AR, MA and ARMA models. Now recall that your data needs to be detrended (or made **stationary**) before you can go along and use ARMA models. This is because it is easier to add trends and seasonality back in after you modeled your data. Now there are several issues with ARMA:\n",
    "\n",
    "- ARMA models assume that the detrending already happened\n",
    "- ARMA neglects that seasonality can happen\n",
    "\n",
    "Let's summarize what we can observe when having time series in three situations:\n",
    "\n",
    "1. A strictly stationary series with no dependence among the values. This is the easy case wherein we can model the residuals as white noise. But this is very rare.\n",
    "\n",
    "2. A nonstationary series with significant dependence among values, but no seasonality. In this case we can use ARMA models after we detrended, or we can use an **integrated** ARMA model that detrends for us.\n",
    "\n",
    "3. A nonstationary series with significant dependence among values, **and** seasonality. In this case we can use a seasonal arima or SARIMA model.\n",
    "\n",
    "In this tutorial, we aim to produce reliable forecasts of a given time series by applying one of the most commonly used method for time series forecasting: ARIMA. After that we'll talk about seasonality and how to cope with it. \n",
    "\n",
    "One of the methods available in Python to model and predict future points of a time series is known as SARIMAX, which stands for **Seasonal AutoRegressive Integrated Moving Averages with eXogenous regressors**. Here, we will primarily focus on the **ARIMA** component, which is used to fit time-series data to better understand and forecast future points in the time series.\n",
    "\n",
    "## Dataset\n",
    "\n",
    "For this lab we shall use the dataset that we have seen before - \"Atmospheric CO2 from Continuous Air Samples at Mauna Loa Observatory, Hawaii, U.S.A.,\" which collected CO2 samples from March 1958 to December 2001 (shown in lab1 if time-series). Let's bring in this data and plot as demosntrated earlier. You need to perform following tasks.\n",
    "\n",
    "1. Import necessary libraries\n",
    "2. import the CO2 dataset from `statsmodels`\n",
    "3. Resample the data as monthly groups and take monthly average\n",
    "4. Fill in the missing values with `Pandas.bfill()`\n",
    "5. Plot the timeseries and inspect the head of data "
   ]
  },
  {
   "cell_type": "code",
   "execution_count": 1,
   "metadata": {},
   "outputs": [],
   "source": [
    "# Import necessary libraries\n",
    "import warnings\n",
    "warnings.filterwarnings('ignore')\n",
    "import itertools\n",
    "import pandas as pd\n",
    "import numpy as np\n",
    "import statsmodels.api as sm\n",
    "import matplotlib.pyplot as plt\n",
    "from matplotlib.pylab import rcParams\n",
    "plt.style.use('ggplot')"
   ]
  },
  {
   "cell_type": "code",
   "execution_count": 20,
   "metadata": {},
   "outputs": [
    {
     "data": {
      "text/html": [
       "<div>\n",
       "<style scoped>\n",
       "    .dataframe tbody tr th:only-of-type {\n",
       "        vertical-align: middle;\n",
       "    }\n",
       "\n",
       "    .dataframe tbody tr th {\n",
       "        vertical-align: top;\n",
       "    }\n",
       "\n",
       "    .dataframe thead th {\n",
       "        text-align: right;\n",
       "    }\n",
       "</style>\n",
       "<table border=\"1\" class=\"dataframe\">\n",
       "  <thead>\n",
       "    <tr style=\"text-align: right;\">\n",
       "      <th></th>\n",
       "      <th>co2</th>\n",
       "    </tr>\n",
       "    <tr>\n",
       "      <th>date</th>\n",
       "      <th></th>\n",
       "    </tr>\n",
       "  </thead>\n",
       "  <tbody>\n",
       "    <tr>\n",
       "      <th>1958-03-29</th>\n",
       "      <td>316.1</td>\n",
       "    </tr>\n",
       "    <tr>\n",
       "      <th>1958-04-05</th>\n",
       "      <td>317.3</td>\n",
       "    </tr>\n",
       "    <tr>\n",
       "      <th>1958-04-12</th>\n",
       "      <td>317.6</td>\n",
       "    </tr>\n",
       "    <tr>\n",
       "      <th>1958-04-19</th>\n",
       "      <td>317.5</td>\n",
       "    </tr>\n",
       "    <tr>\n",
       "      <th>1958-04-26</th>\n",
       "      <td>316.4</td>\n",
       "    </tr>\n",
       "    <tr>\n",
       "      <th>1958-05-03</th>\n",
       "      <td>316.9</td>\n",
       "    </tr>\n",
       "    <tr>\n",
       "      <th>1958-05-10</th>\n",
       "      <td>NaN</td>\n",
       "    </tr>\n",
       "    <tr>\n",
       "      <th>1958-05-17</th>\n",
       "      <td>317.5</td>\n",
       "    </tr>\n",
       "    <tr>\n",
       "      <th>1958-05-24</th>\n",
       "      <td>317.9</td>\n",
       "    </tr>\n",
       "    <tr>\n",
       "      <th>1958-05-31</th>\n",
       "      <td>NaN</td>\n",
       "    </tr>\n",
       "    <tr>\n",
       "      <th>1958-06-07</th>\n",
       "      <td>NaN</td>\n",
       "    </tr>\n",
       "    <tr>\n",
       "      <th>1958-06-14</th>\n",
       "      <td>NaN</td>\n",
       "    </tr>\n",
       "    <tr>\n",
       "      <th>1958-06-21</th>\n",
       "      <td>NaN</td>\n",
       "    </tr>\n",
       "    <tr>\n",
       "      <th>1958-06-28</th>\n",
       "      <td>NaN</td>\n",
       "    </tr>\n",
       "    <tr>\n",
       "      <th>1958-07-05</th>\n",
       "      <td>315.8</td>\n",
       "    </tr>\n",
       "    <tr>\n",
       "      <th>1958-07-12</th>\n",
       "      <td>315.8</td>\n",
       "    </tr>\n",
       "    <tr>\n",
       "      <th>1958-07-19</th>\n",
       "      <td>315.4</td>\n",
       "    </tr>\n",
       "    <tr>\n",
       "      <th>1958-07-26</th>\n",
       "      <td>315.5</td>\n",
       "    </tr>\n",
       "    <tr>\n",
       "      <th>1958-08-02</th>\n",
       "      <td>315.6</td>\n",
       "    </tr>\n",
       "    <tr>\n",
       "      <th>1958-08-09</th>\n",
       "      <td>315.1</td>\n",
       "    </tr>\n",
       "  </tbody>\n",
       "</table>\n",
       "</div>"
      ],
      "text/plain": [
       "              co2\n",
       "date             \n",
       "1958-03-29  316.1\n",
       "1958-04-05  317.3\n",
       "1958-04-12  317.6\n",
       "1958-04-19  317.5\n",
       "1958-04-26  316.4\n",
       "1958-05-03  316.9\n",
       "1958-05-10    NaN\n",
       "1958-05-17  317.5\n",
       "1958-05-24  317.9\n",
       "1958-05-31    NaN\n",
       "1958-06-07    NaN\n",
       "1958-06-14    NaN\n",
       "1958-06-21    NaN\n",
       "1958-06-28    NaN\n",
       "1958-07-05  315.8\n",
       "1958-07-12  315.8\n",
       "1958-07-19  315.4\n",
       "1958-07-26  315.5\n",
       "1958-08-02  315.6\n",
       "1958-08-09  315.1"
      ]
     },
     "execution_count": 20,
     "metadata": {},
     "output_type": "execute_result"
    }
   ],
   "source": [
    "#Load the CO2 dataset from sm.datasets\n",
    "df = pd.DataFrame.from_records(sm.datasets.co2.load().data)\n",
    "df['date'] = df.date.apply(lambda x: x.decode('utf-8'))\n",
    "df['date'] = pd.to_datetime(df.date, format='%Y%m%d')\n",
    "df.set_index('date',inplace=True)\n",
    "df.head(20)\n",
    "# Use 'MS' string to group the data in buckets by start of the month\n",
    "\n",
    "\n",
    "# Fill in missing values\n",
    "\n",
    "# Plot the time-series\n",
    "\n",
    "\n",
    "# 1958-03-01    316.100000\n",
    "# 1958-04-01    317.200000\n",
    "# 1958-05-01    317.433333\n",
    "# 1958-06-01    315.625000\n",
    "# 1958-07-01    315.625000\n",
    "# Freq: MS, Name: co2, dtype: float64"
   ]
  },
  {
   "cell_type": "code",
   "execution_count": 19,
   "metadata": {},
   "outputs": [
    {
     "data": {
      "text/plain": [
       "date\n",
       "1958-03-01    316.100000\n",
       "1958-04-01    317.200000\n",
       "1958-05-01    317.433333\n",
       "1958-06-01           NaN\n",
       "1958-07-01    315.625000\n",
       "Freq: MS, Name: co2, dtype: float64"
      ]
     },
     "execution_count": 19,
     "metadata": {},
     "output_type": "execute_result"
    }
   ],
   "source": [
    "CO2_monthly=df['co2'].resample('MS').mean()\n",
    "CO2_monthly.head()"
   ]
  },
  {
   "cell_type": "code",
   "execution_count": 21,
   "metadata": {},
   "outputs": [
    {
     "data": {
      "text/plain": [
       "date\n",
       "1958-03-01    316.100000\n",
       "1958-04-01    317.200000\n",
       "1958-05-01    317.433333\n",
       "1958-06-01    315.625000\n",
       "1958-07-01    315.625000\n",
       "1958-08-01    314.950000\n",
       "1958-09-01    313.500000\n",
       "1958-10-01    313.425000\n",
       "1958-11-01    313.425000\n",
       "1958-12-01    314.700000\n",
       "Freq: MS, Name: co2, dtype: float64"
      ]
     },
     "execution_count": 21,
     "metadata": {},
     "output_type": "execute_result"
    }
   ],
   "source": [
    "CO2_monthly.bfill(inplace=True)\n",
    "CO2_monthly.head(10)"
   ]
  },
  {
   "cell_type": "code",
   "execution_count": 22,
   "metadata": {},
   "outputs": [
    {
     "data": {
      "text/plain": [
       "<matplotlib.axes._subplots.AxesSubplot at 0x1afd4765198>"
      ]
     },
     "execution_count": 22,
     "metadata": {},
     "output_type": "execute_result"
    },
    {
     "data": {
      "image/png": "[encoded data removed]",
      "text/plain": [
       "<Figure size 1152x432 with 1 Axes>"
      ]
     },
     "metadata": {
      "needs_background": "light"
     },
     "output_type": "display_data"
    }
   ],
   "source": [
    "CO2_monthly.plot(figsize=(16,6))"
   ]
  },
  {
   "cell_type": "markdown",
   "metadata": {},
   "source": [
    "As noted earlier, the time series has spikes reflecting an obvious seasonality pattern, as well as an overall increasing trend."
   ]
  },
  {
   "cell_type": "markdown",
   "metadata": {},
   "source": [
    "## The ARIMA Time Series Model\n",
    "\n",
    "One of the most common methods used in time series forecasting is known as the ARIMA model, which stands for **AutoregRessive Integrated Moving Average**. ARIMA is a model that can be fitted to time series data in order to better understand or predict future points in the series.\n",
    "\n",
    "Let's have a quick introduction to ARIMA. The ARIMA forecasting for a stationary time series is nothing but a linear (like a linear regression) equation. The predictors depend on the parameters (p,d,q) of the ARIMA model:\n",
    "\n",
    "### Number of AR (Auto-Regressive) terms (p): \n",
    "\n",
    "`p` is the auto-regressive part of the model. It allows us to incorporate the effect of past values into our model. Intuitively, this would be similar to stating that it is likely to rain tomorrow if it has been raining for past 3 days. AR terms are just lags of dependent variable. For instance if p is 5, the predictors for x(t) will be x(t-1)….x(t-5).\n",
    "\n",
    "### Number of Differences (d):\n",
    "\n",
    "`d` is the **Integrated** component of an ARIMA model. This value is concerned with the amount of differencing as it identifies the number of lag values to subtract from the current observation. Intuitively, this would be similar to stating that it is likely to rain tomorrow if the difference in amount of rain in the last *n* days is small. \n",
    "\n",
    "### Number of MA (Moving Average) terms (q): \n",
    "\n",
    "`q` is the moving average part of the model which is used to set the error of the model as a linear combination of the error values observed at previous time points in the past. MA terms form lagged forecast errors in prediction equation. For instance if q is 5, the predictors for x(t) will be e(t-1)….e(t-5) where `e(i)` is the difference between the moving average at ith instant and actual value.\n",
    "\n",
    "These three distinct integer values, (p, d, q), are used to parametrize ARIMA models. Because of that, ARIMA models are denoted with the notation `ARIMA(p, d, q)`. Together these three parameters account for seasonality, trend, and noise in datasets:\n",
    "\n",
    "* `(p, d, q)` are the non-seasonal parameters described above.\n",
    "* `(P, D, Q)` follow the same definition but are applied to the seasonal component of the time series. \n",
    "* The term `s` is the periodicity of the time series (4 for quarterly periods, 12 for yearly periods, etc.).\n",
    "\n",
    "A detailed article on these parameters is available [HERE](https://www.quantstart.com/articles/Autoregressive-Integrated-Moving-Average-ARIMA-p-d-q-Models-for-Time-Series-Analysis).\n",
    "\n",
    "The seasonal ARIMA method can appear daunting because of the multiple tuning parameters involved. In the next section, we will describe how to automate the process of identifying the optimal set of parameters for the seasonal ARIMA time series model."
   ]
  },
  {
   "cell_type": "markdown",
   "metadata": {},
   "source": [
    "## Parameter Selection for the ARIMA Time Series Model\n"
   ]
  },
  {
   "cell_type": "markdown",
   "metadata": {},
   "source": [
    "The first step towards fitting an ARIMA model is to find the values of `ARIMA(p,d,q)(P,D,Q)s` that produce the desired output. Selection of these parameters requires domain expertise and time.  We shall first generate small ranges of these parameters and use a \"grid search\" to iteratively explore different combinations of parameters. For each combination of parameters, we fit a new seasonal ARIMA model with the `SARIMAX()` function from the statsmodels module and assess its overall quality. \n",
    "\n",
    "`SARIMAX` detailed documentation can be viewed [HERE](https://www.statsmodels.org/dev/generated/statsmodels.tsa.statespace.sarimax.SARIMAX.html)\n",
    "\n",
    "Let's begin by generating example combination of parameters that we wish to use.\n",
    "\n",
    "1. Define p,q and d parameters to take any value from 0/1 using `range()` function. (Note: We can try larger values which can make our model computationally expensive to run, you can try this as an additional experiment)\n",
    "\n",
    "2. Generate combinations for `(p,d,q)` using `itertools.product`.\n",
    "3. Similarly, generate seasonal combinations as `(p,d,q)s`. Use s = 12 (constant)\n",
    "4. Print some example combinations for seasonal ARIMA"
   ]
  },
  {
   "cell_type": "code",
   "execution_count": 60,
   "metadata": {},
   "outputs": [],
   "source": [
    "# Define the p, d and q parameters to take any value between 0 and 2\n",
    "p = d = q = range(3)\n",
    "\n",
    "# Generate all different combinations of p, q and q triplets\n",
    "pdq = list(itertools.product(p,d,q))\n",
    "\n",
    "# Generate all different combinations of seasonal p, q and q triplets (use 12 for frequency)\n",
    "pdqs = list(itertools.product(p,d,q,[12]))\n"
   ]
  },
  {
   "cell_type": "code",
   "execution_count": 61,
   "metadata": {},
   "outputs": [
    {
     "data": {
      "text/plain": [
       "[(0, 0, 0),\n",
       " (0, 0, 1),\n",
       " (0, 0, 2),\n",
       " (0, 1, 0),\n",
       " (0, 1, 1),\n",
       " (0, 1, 2),\n",
       " (0, 2, 0),\n",
       " (0, 2, 1),\n",
       " (0, 2, 2),\n",
       " (1, 0, 0),\n",
       " (1, 0, 1),\n",
       " (1, 0, 2),\n",
       " (1, 1, 0),\n",
       " (1, 1, 1),\n",
       " (1, 1, 2),\n",
       " (1, 2, 0),\n",
       " (1, 2, 1),\n",
       " (1, 2, 2),\n",
       " (2, 0, 0),\n",
       " (2, 0, 1),\n",
       " (2, 0, 2),\n",
       " (2, 1, 0),\n",
       " (2, 1, 1),\n",
       " (2, 1, 2),\n",
       " (2, 2, 0),\n",
       " (2, 2, 1),\n",
       " (2, 2, 2)]"
      ]
     },
     "execution_count": 61,
     "metadata": {},
     "output_type": "execute_result"
    }
   ],
   "source": [
    "pdq"
   ]
  },
  {
   "cell_type": "markdown",
   "metadata": {},
   "source": [
    "## AIC (Akaike Information Criterion) as Regularization Measure"
   ]
  },
  {
   "cell_type": "markdown",
   "metadata": {},
   "source": [
    "For evaluating the model, we shall use the AIC (Akaike Information Criterion) value, which is provided by ARIMA models fitted using `statsmodels` library. The Akaike information criterion (AIC) is an estimator of the relative quality of statistical models for a given set of data. Given a collection of models for the data, AIC estimates the quality of each model, relative to each of the other models. Thus, AIC provides a means for model selection. \n",
    "\n",
    "A model that fits the data very well while using lots of features will be assigned a larger AIC score than a model that uses fewer features to achieve the same goodness-of-fit. Therefore, we are interested in finding the model that yields the lowest AIC value. To achieve this, perform following tasks:\n",
    "\n",
    "1. Initialize an empty list to store results\n",
    "2. iterate through all the paramaters in pdq with parameters in seasonal pdq (nested loop ) to create a grid\n",
    "3. Run `SARIMAX` from statsmodels for each iteration. Details can be found [HERE](https://www.statsmodels.org/dev/generated/statsmodels.tsa.statespace.sarimax.SARIMAX.html). Set `enforce_stationarity` and `enforce_invertibility` to False. \n",
    "4. Get the results in each iteration with `model.fit()` and store the AIC values. \n",
    "5. Find the lowest AIC and select parameters for further analysis. \n",
    "\n",
    "NOTE: \n",
    "* Integrate exception handling with `continue`. \n",
    "* An overview of Akaike Information Criterion can be viewed [HERE](http://www.statisticshowto.com/akaikes-information-criterion/)\n",
    "\n"
   ]
  },
  {
   "cell_type": "code",
   "execution_count": 62,
   "metadata": {
    "scrolled": true
   },
   "outputs": [
    {
     "name": "stdout",
     "output_type": "stream",
     "text": [
      "ARIMA (0, 0, 0) x (0, 0, 0, 12) : AIC = 7612.583429881011\n",
      "ARIMA (0, 0, 0) x (0, 0, 1, 12) : AIC = 6787.343624036742\n",
      "ARIMA (0, 0, 0) x (0, 0, 2, 12) : AIC = 6027.256393004287\n",
      "ARIMA (0, 0, 0) x (0, 1, 0, 12) : AIC = 1854.828234141261\n",
      "ARIMA (0, 0, 0) x (0, 1, 1, 12) : AIC = 1596.7111727641156\n",
      "ARIMA (0, 0, 0) x (0, 1, 2, 12) : AIC = 1480.791093205136\n",
      "ARIMA (0, 0, 0) x (0, 2, 0, 12) : AIC = 1414.032574253477\n",
      "ARIMA (0, 0, 0) x (0, 2, 1, 12) : AIC = 1049.188550967022\n",
      "ARIMA (0, 0, 0) x (0, 2, 2, 12) : AIC = 1000.6304768410312\n"
     ]
    },
    {
     "name": "stderr",
     "output_type": "stream",
     "text": [
      "C:\\Users\\kosta\\Anaconda3\\envs\\learn-env\\lib\\site-packages\\statsmodels\\base\\model.py:508: ConvergenceWarning: Maximum Likelihood optimization failed to converge. Check mle_retvals\n",
      "  \"Check mle_retvals\", ConvergenceWarning)\n"
     ]
    },
    {
     "name": "stdout",
     "output_type": "stream",
     "text": [
      "ARIMA (0, 0, 0) x (1, 0, 0, 12) : AIC = 1058.9388921320028\n",
      "ARIMA (0, 0, 0) x (1, 0, 1, 12) : AIC = 1056.2878498284585\n",
      "ARIMA (0, 0, 0) x (1, 0, 2, 12) : AIC = 1027.991625884741\n",
      "ARIMA (0, 0, 0) x (1, 1, 0, 12) : AIC = 1361.6578978072075\n",
      "ARIMA (0, 0, 0) x (1, 1, 1, 12) : AIC = 1044.7647912934656\n",
      "ARIMA (0, 0, 0) x (1, 1, 2, 12) : AIC = 998.6335093313829\n",
      "ARIMA (0, 0, 0) x (1, 2, 0, 12) : AIC = 1236.4167518164884\n",
      "ARIMA (0, 0, 0) x (1, 2, 1, 12) : AIC = 1036.873199167933\n",
      "ARIMA (0, 0, 0) x (1, 2, 2, 12) : AIC = 1001.9764502347657\n",
      "ARIMA (0, 0, 0) x (2, 0, 0, 12) : AIC = 1028.8283750317812\n"
     ]
    },
    {
     "name": "stderr",
     "output_type": "stream",
     "text": [
      "C:\\Users\\kosta\\Anaconda3\\envs\\learn-env\\lib\\site-packages\\statsmodels\\base\\model.py:508: ConvergenceWarning: Maximum Likelihood optimization failed to converge. Check mle_retvals\n",
      "  \"Check mle_retvals\", ConvergenceWarning)\n"
     ]
    },
    {
     "name": "stdout",
     "output_type": "stream",
     "text": [
      "ARIMA (0, 0, 0) x (2, 0, 1, 12) : AIC = 1029.9002821322872\n"
     ]
    },
    {
     "name": "stderr",
     "output_type": "stream",
     "text": [
      "C:\\Users\\kosta\\Anaconda3\\envs\\learn-env\\lib\\site-packages\\statsmodels\\base\\model.py:508: ConvergenceWarning: Maximum Likelihood optimization failed to converge. Check mle_retvals\n",
      "  \"Check mle_retvals\", ConvergenceWarning)\n"
     ]
    },
    {
     "name": "stdout",
     "output_type": "stream",
     "text": [
      "ARIMA (0, 0, 0) x (2, 0, 2, 12) : AIC = 1030.9736004005697\n",
      "ARIMA (0, 0, 0) x (2, 1, 0, 12) : AIC = 1221.32243896506\n",
      "ARIMA (0, 0, 0) x (2, 1, 1, 12) : AIC = 1005.7343825341011\n"
     ]
    },
    {
     "name": "stderr",
     "output_type": "stream",
     "text": [
      "C:\\Users\\kosta\\Anaconda3\\envs\\learn-env\\lib\\site-packages\\statsmodels\\base\\model.py:508: ConvergenceWarning: Maximum Likelihood optimization failed to converge. Check mle_retvals\n",
      "  \"Check mle_retvals\", ConvergenceWarning)\n"
     ]
    },
    {
     "name": "stdout",
     "output_type": "stream",
     "text": [
      "ARIMA (0, 0, 0) x (2, 1, 2, 12) : AIC = 998.6952199444786\n",
      "ARIMA (0, 0, 0) x (2, 2, 0, 12) : AIC = 1092.444040822484\n",
      "ARIMA (0, 0, 0) x (2, 2, 1, 12) : AIC = 994.7689101037913\n",
      "ARIMA (0, 0, 0) x (2, 2, 2, 12) : AIC = 994.7413526204632\n",
      "ARIMA (0, 0, 1) x (0, 0, 0, 12) : AIC = 6881.048755158018\n",
      "ARIMA (0, 0, 1) x (0, 0, 1, 12) : AIC = 6072.662327703169\n",
      "ARIMA (0, 0, 1) x (0, 0, 2, 12) : AIC = 5330.667177878079\n",
      "ARIMA (0, 0, 1) x (0, 1, 0, 12) : AIC = 1379.1941067312878\n",
      "ARIMA (0, 0, 1) x (0, 1, 1, 12) : AIC = 1241.41747167922\n",
      "ARIMA (0, 0, 1) x (0, 1, 2, 12) : AIC = 1163.286622137891\n",
      "ARIMA (0, 0, 1) x (0, 2, 0, 12) : AIC = 1199.9294225421886\n",
      "ARIMA (0, 0, 1) x (0, 2, 1, 12) : AIC = 804.2386839105322\n",
      "ARIMA (0, 0, 1) x (0, 2, 2, 12) : AIC = 739.8218330131176\n"
     ]
    },
    {
     "name": "stderr",
     "output_type": "stream",
     "text": [
      "C:\\Users\\kosta\\Anaconda3\\envs\\learn-env\\lib\\site-packages\\statsmodels\\base\\model.py:508: ConvergenceWarning: Maximum Likelihood optimization failed to converge. Check mle_retvals\n",
      "  \"Check mle_retvals\", ConvergenceWarning)\n"
     ]
    },
    {
     "name": "stdout",
     "output_type": "stream",
     "text": [
      "ARIMA (0, 0, 1) x (1, 0, 0, 12) : AIC = 1084.1085686211736\n",
      "ARIMA (0, 0, 1) x (1, 0, 1, 12) : AIC = 780.4295322534892\n"
     ]
    },
    {
     "name": "stderr",
     "output_type": "stream",
     "text": [
      "C:\\Users\\kosta\\Anaconda3\\envs\\learn-env\\lib\\site-packages\\statsmodels\\base\\model.py:508: ConvergenceWarning: Maximum Likelihood optimization failed to converge. Check mle_retvals\n",
      "  \"Check mle_retvals\", ConvergenceWarning)\n"
     ]
    },
    {
     "name": "stdout",
     "output_type": "stream",
     "text": [
      "ARIMA (0, 0, 1) x (1, 0, 2, 12) : AIC = 769.327905499287\n",
      "ARIMA (0, 0, 1) x (1, 1, 0, 12) : AIC = 1119.5957893617642\n",
      "ARIMA (0, 0, 1) x (1, 1, 1, 12) : AIC = 807.091298859058\n",
      "ARIMA (0, 0, 1) x (1, 1, 2, 12) : AIC = 734.9191865183319\n",
      "ARIMA (0, 0, 1) x (1, 2, 0, 12) : AIC = 1002.3465766372735\n",
      "ARIMA (0, 0, 1) x (1, 2, 1, 12) : AIC = 775.1608138379647\n",
      "ARIMA (0, 0, 1) x (1, 2, 2, 12) : AIC = 742.4310488451373\n",
      "ARIMA (0, 0, 1) x (2, 0, 0, 12) : AIC = 752.6301527942271\n",
      "ARIMA (0, 0, 1) x (2, 0, 1, 12) : AIC = 750.3651227919083\n"
     ]
    },
    {
     "name": "stderr",
     "output_type": "stream",
     "text": [
      "C:\\Users\\kosta\\Anaconda3\\envs\\learn-env\\lib\\site-packages\\statsmodels\\base\\model.py:508: ConvergenceWarning: Maximum Likelihood optimization failed to converge. Check mle_retvals\n",
      "  \"Check mle_retvals\", ConvergenceWarning)\n"
     ]
    },
    {
     "name": "stdout",
     "output_type": "stream",
     "text": [
      "ARIMA (0, 0, 1) x (2, 0, 2, 12) : AIC = 1274.3791252174278\n",
      "ARIMA (0, 0, 1) x (2, 1, 0, 12) : AIC = 979.1135741940984\n",
      "ARIMA (0, 0, 1) x (2, 1, 1, 12) : AIC = 747.8241572532875\n",
      "ARIMA (0, 0, 1) x (2, 1, 2, 12) : AIC = 731.3916869379369\n",
      "ARIMA (0, 0, 1) x (2, 2, 0, 12) : AIC = 859.6391162067232\n",
      "ARIMA (0, 0, 1) x (2, 2, 1, 12) : AIC = 740.0516588991147\n",
      "ARIMA (0, 0, 1) x (2, 2, 2, 12) : AIC = 738.9376144247367\n",
      "ARIMA (0, 0, 2) x (0, 0, 0, 12) : AIC = 6166.721714792952\n",
      "ARIMA (0, 0, 2) x (0, 0, 1, 12) : AIC = 5401.00827340391\n"
     ]
    },
    {
     "name": "stderr",
     "output_type": "stream",
     "text": [
      "C:\\Users\\kosta\\Anaconda3\\envs\\learn-env\\lib\\site-packages\\statsmodels\\base\\model.py:508: ConvergenceWarning: Maximum Likelihood optimization failed to converge. Check mle_retvals\n",
      "  \"Check mle_retvals\", ConvergenceWarning)\n"
     ]
    },
    {
     "name": "stdout",
     "output_type": "stream",
     "text": [
      "ARIMA (0, 0, 2) x (0, 0, 2, 12) : AIC = 4788.489745613738\n",
      "ARIMA (0, 0, 2) x (0, 1, 0, 12) : AIC = 1110.2595962024457\n",
      "ARIMA (0, 0, 2) x (0, 1, 1, 12) : AIC = 1032.2137257838936\n",
      "ARIMA (0, 0, 2) x (0, 1, 2, 12) : AIC = 963.6153440599934\n",
      "ARIMA (0, 0, 2) x (0, 2, 0, 12) : AIC = 1109.3054011131496\n",
      "ARIMA (0, 0, 2) x (0, 2, 1, 12) : AIC = 687.8114878236595\n",
      "ARIMA (0, 0, 2) x (0, 2, 2, 12) : AIC = 604.7497090592612\n",
      "ARIMA (0, 0, 2) x (1, 0, 0, 12) : AIC = 681.6657462205098\n"
     ]
    },
    {
     "name": "stderr",
     "output_type": "stream",
     "text": [
      "C:\\Users\\kosta\\Anaconda3\\envs\\learn-env\\lib\\site-packages\\statsmodels\\base\\model.py:508: ConvergenceWarning: Maximum Likelihood optimization failed to converge. Check mle_retvals\n",
      "  \"Check mle_retvals\", ConvergenceWarning)\n"
     ]
    },
    {
     "name": "stdout",
     "output_type": "stream",
     "text": [
      "ARIMA (0, 0, 2) x (1, 0, 1, 12) : AIC = 656.8392172777635\n"
     ]
    },
    {
     "name": "stderr",
     "output_type": "stream",
     "text": [
      "C:\\Users\\kosta\\Anaconda3\\envs\\learn-env\\lib\\site-packages\\statsmodels\\base\\model.py:508: ConvergenceWarning: Maximum Likelihood optimization failed to converge. Check mle_retvals\n",
      "  \"Check mle_retvals\", ConvergenceWarning)\n"
     ]
    },
    {
     "name": "stdout",
     "output_type": "stream",
     "text": [
      "ARIMA (0, 0, 2) x (1, 0, 2, 12) : AIC = 1035.3348672905895\n",
      "ARIMA (0, 0, 2) x (1, 1, 0, 12) : AIC = 987.4210667007493\n",
      "ARIMA (0, 0, 2) x (1, 1, 1, 12) : AIC = 700.9035673751074\n",
      "ARIMA (0, 0, 2) x (1, 1, 2, 12) : AIC = 599.5997867349535\n",
      "ARIMA (0, 0, 2) x (1, 2, 0, 12) : AIC = 879.7089317389303\n",
      "ARIMA (0, 0, 2) x (1, 2, 1, 12) : AIC = 644.0566719685474\n",
      "ARIMA (0, 0, 2) x (1, 2, 2, 12) : AIC = 610.210489987066\n"
     ]
    },
    {
     "name": "stderr",
     "output_type": "stream",
     "text": [
      "C:\\Users\\kosta\\Anaconda3\\envs\\learn-env\\lib\\site-packages\\statsmodels\\base\\model.py:508: ConvergenceWarning: Maximum Likelihood optimization failed to converge. Check mle_retvals\n",
      "  \"Check mle_retvals\", ConvergenceWarning)\n"
     ]
    },
    {
     "name": "stdout",
     "output_type": "stream",
     "text": [
      "ARIMA (0, 0, 2) x (2, 0, 0, 12) : AIC = 675.5643844026423\n"
     ]
    },
    {
     "name": "stderr",
     "output_type": "stream",
     "text": [
      "C:\\Users\\kosta\\Anaconda3\\envs\\learn-env\\lib\\site-packages\\statsmodels\\base\\model.py:508: ConvergenceWarning: Maximum Likelihood optimization failed to converge. Check mle_retvals\n",
      "  \"Check mle_retvals\", ConvergenceWarning)\n"
     ]
    },
    {
     "name": "stdout",
     "output_type": "stream",
     "text": [
      "ARIMA (0, 0, 2) x (2, 0, 1, 12) : AIC = 695.4195550033753\n"
     ]
    },
    {
     "name": "stderr",
     "output_type": "stream",
     "text": [
      "C:\\Users\\kosta\\Anaconda3\\envs\\learn-env\\lib\\site-packages\\statsmodels\\base\\model.py:508: ConvergenceWarning: Maximum Likelihood optimization failed to converge. Check mle_retvals\n",
      "  \"Check mle_retvals\", ConvergenceWarning)\n"
     ]
    },
    {
     "name": "stdout",
     "output_type": "stream",
     "text": [
      "ARIMA (0, 0, 2) x (2, 0, 2, 12) : AIC = 1134.928618407522\n",
      "ARIMA (0, 0, 2) x (2, 1, 0, 12) : AIC = 846.8373205101572\n"
     ]
    },
    {
     "name": "stderr",
     "output_type": "stream",
     "text": [
      "C:\\Users\\kosta\\Anaconda3\\envs\\learn-env\\lib\\site-packages\\statsmodels\\base\\model.py:508: ConvergenceWarning: Maximum Likelihood optimization failed to converge. Check mle_retvals\n",
      "  \"Check mle_retvals\", ConvergenceWarning)\n"
     ]
    },
    {
     "name": "stdout",
     "output_type": "stream",
     "text": [
      "ARIMA (0, 0, 2) x (2, 1, 1, 12) : AIC = 621.0275588698739\n"
     ]
    },
    {
     "name": "stderr",
     "output_type": "stream",
     "text": [
      "C:\\Users\\kosta\\Anaconda3\\envs\\learn-env\\lib\\site-packages\\statsmodels\\base\\model.py:508: ConvergenceWarning: Maximum Likelihood optimization failed to converge. Check mle_retvals\n",
      "  \"Check mle_retvals\", ConvergenceWarning)\n"
     ]
    },
    {
     "name": "stdout",
     "output_type": "stream",
     "text": [
      "ARIMA (0, 0, 2) x (2, 1, 2, 12) : AIC = 599.0082401414403\n",
      "ARIMA (0, 0, 2) x (2, 2, 0, 12) : AIC = 749.8519429733142\n",
      "ARIMA (0, 0, 2) x (2, 2, 1, 12) : AIC = 619.4196127455682\n",
      "ARIMA (0, 0, 2) x (2, 2, 2, 12) : AIC = 616.2793865422962\n",
      "ARIMA (0, 1, 0) x (0, 0, 0, 12) : AIC = 1675.8086923024293\n",
      "ARIMA (0, 1, 0) x (0, 0, 1, 12) : AIC = 1240.2211199194057\n",
      "ARIMA (0, 1, 0) x (0, 0, 2, 12) : AIC = 1009.3810751747551\n",
      "ARIMA (0, 1, 0) x (0, 1, 0, 12) : AIC = 633.4425586468699\n",
      "ARIMA (0, 1, 0) x (0, 1, 1, 12) : AIC = 337.7938545681309\n",
      "ARIMA (0, 1, 0) x (0, 1, 2, 12) : AIC = 315.37831667900605\n",
      "ARIMA (0, 1, 0) x (0, 2, 0, 12) : AIC = 1129.234151960986\n",
      "ARIMA (0, 1, 0) x (0, 2, 1, 12) : AIC = 632.1481086001611\n",
      "ARIMA (0, 1, 0) x (0, 2, 2, 12) : AIC = 395.91565028575957\n",
      "ARIMA (0, 1, 0) x (1, 0, 0, 12) : AIC = 619.9501759055394\n",
      "ARIMA (0, 1, 0) x (1, 0, 1, 12) : AIC = 376.9283759285899\n",
      "ARIMA (0, 1, 0) x (1, 0, 2, 12) : AIC = 317.3733059247889\n",
      "ARIMA (0, 1, 0) x (1, 1, 0, 12) : AIC = 478.3296906672489\n",
      "ARIMA (0, 1, 0) x (1, 1, 1, 12) : AIC = 323.0775885621347\n",
      "ARIMA (0, 1, 0) x (1, 1, 2, 12) : AIC = 315.4739955148716\n",
      "ARIMA (0, 1, 0) x (1, 2, 0, 12) : AIC = 843.8991488372611\n",
      "ARIMA (0, 1, 0) x (1, 2, 1, 12) : AIC = 521.4981582127177\n",
      "ARIMA (0, 1, 0) x (1, 2, 2, 12) : AIC = 378.37446803691284\n",
      "ARIMA (0, 1, 0) x (2, 0, 0, 12) : AIC = 476.0100604621829\n",
      "ARIMA (0, 1, 0) x (2, 0, 1, 12) : AIC = 321.0961770461497\n",
      "ARIMA (0, 1, 0) x (2, 0, 2, 12) : AIC = 316.2316338643982\n",
      "ARIMA (0, 1, 0) x (2, 1, 0, 12) : AIC = 416.5149151120175\n",
      "ARIMA (0, 1, 0) x (2, 1, 1, 12) : AIC = 322.76670988705195\n",
      "ARIMA (0, 1, 0) x (2, 1, 2, 12) : AIC = 319.6161981625411\n",
      "ARIMA (0, 1, 0) x (2, 2, 0, 12) : AIC = 695.2138168072456\n",
      "ARIMA (0, 1, 0) x (2, 2, 1, 12) : AIC = 464.13796898708233\n",
      "ARIMA (0, 1, 0) x (2, 2, 2, 12) : AIC = 404.71689300392256\n",
      "ARIMA (0, 1, 1) x (0, 0, 0, 12) : AIC = 1371.1872602334613\n",
      "ARIMA (0, 1, 1) x (0, 0, 1, 12) : AIC = 1101.8410734302824\n",
      "ARIMA (0, 1, 1) x (0, 0, 2, 12) : AIC = 951.0646185553292\n",
      "ARIMA (0, 1, 1) x (0, 1, 0, 12) : AIC = 587.9479709744935\n",
      "ARIMA (0, 1, 1) x (0, 1, 1, 12) : AIC = 302.4949002863983\n",
      "ARIMA (0, 1, 1) x (0, 1, 2, 12) : AIC = 275.4990652069532\n",
      "ARIMA (0, 1, 1) x (0, 2, 0, 12) : AIC = 1089.2643317401203\n",
      "ARIMA (0, 1, 1) x (0, 2, 1, 12) : AIC = 593.8532628458371\n",
      "ARIMA (0, 1, 1) x (0, 2, 2, 12) : AIC = 353.1509704382794\n",
      "ARIMA (0, 1, 1) x (1, 0, 0, 12) : AIC = 584.4333533172755\n",
      "ARIMA (0, 1, 1) x (1, 0, 1, 12) : AIC = 337.1999051806238\n",
      "ARIMA (0, 1, 1) x (1, 0, 2, 12) : AIC = 277.77844724987074\n",
      "ARIMA (0, 1, 1) x (1, 1, 0, 12) : AIC = 433.0863608210692\n",
      "ARIMA (0, 1, 1) x (1, 1, 1, 12) : AIC = 281.51901777363287\n",
      "ARIMA (0, 1, 1) x (1, 1, 2, 12) : AIC = 275.6112624377944\n",
      "ARIMA (0, 1, 1) x (1, 2, 0, 12) : AIC = 803.2147748253096\n",
      "ARIMA (0, 1, 1) x (1, 2, 1, 12) : AIC = 476.28175243213195\n",
      "ARIMA (0, 1, 1) x (1, 2, 2, 12) : AIC = 330.2479447764976\n",
      "ARIMA (0, 1, 1) x (2, 0, 0, 12) : AIC = 433.68716092186423\n",
      "ARIMA (0, 1, 1) x (2, 0, 1, 12) : AIC = 278.40329733988415\n",
      "ARIMA (0, 1, 1) x (2, 0, 2, 12) : AIC = 277.8487440347144\n",
      "ARIMA (0, 1, 1) x (2, 1, 0, 12) : AIC = 359.8933966779248\n",
      "ARIMA (0, 1, 1) x (2, 1, 1, 12) : AIC = 282.98332933555326\n",
      "ARIMA (0, 1, 1) x (2, 1, 2, 12) : AIC = 279.2233236102293\n",
      "ARIMA (0, 1, 1) x (2, 2, 0, 12) : AIC = 648.2793099517314\n",
      "ARIMA (0, 1, 1) x (2, 2, 1, 12) : AIC = 408.5053434581912\n",
      "ARIMA (0, 1, 1) x (2, 2, 2, 12) : AIC = 357.7326349487947\n",
      "ARIMA (0, 1, 2) x (0, 0, 0, 12) : AIC = 1236.5172474041544\n",
      "ARIMA (0, 1, 2) x (0, 0, 1, 12) : AIC = 1028.5820749165985\n",
      "ARIMA (0, 1, 2) x (0, 0, 2, 12) : AIC = 902.749068639729\n",
      "ARIMA (0, 1, 2) x (0, 1, 0, 12) : AIC = 568.7129240845013\n",
      "ARIMA (0, 1, 2) x (0, 1, 1, 12) : AIC = 296.1523478540889\n",
      "ARIMA (0, 1, 2) x (0, 1, 2, 12) : AIC = 273.35194695521034\n",
      "ARIMA (0, 1, 2) x (0, 2, 0, 12) : AIC = 1078.5067788354304\n",
      "ARIMA (0, 1, 2) x (0, 2, 1, 12) : AIC = 584.9184833474592\n",
      "ARIMA (0, 1, 2) x (0, 2, 2, 12) : AIC = 347.50288959169256\n",
      "ARIMA (0, 1, 2) x (1, 0, 0, 12) : AIC = 579.7302882793025\n",
      "ARIMA (0, 1, 2) x (1, 0, 1, 12) : AIC = 320.40900956335565\n"
     ]
    },
    {
     "name": "stderr",
     "output_type": "stream",
     "text": [
      "C:\\Users\\kosta\\Anaconda3\\envs\\learn-env\\lib\\site-packages\\statsmodels\\base\\model.py:508: ConvergenceWarning: Maximum Likelihood optimization failed to converge. Check mle_retvals\n",
      "  \"Check mle_retvals\", ConvergenceWarning)\n"
     ]
    },
    {
     "name": "stdout",
     "output_type": "stream",
     "text": [
      "ARIMA (0, 1, 2) x (1, 0, 2, 12) : AIC = 276.44651628693686\n",
      "ARIMA (0, 1, 2) x (1, 1, 0, 12) : AIC = 431.9316622042487\n",
      "ARIMA (0, 1, 2) x (1, 1, 1, 12) : AIC = 279.8741261085918\n",
      "ARIMA (0, 1, 2) x (1, 1, 2, 12) : AIC = 274.4251094466669\n",
      "ARIMA (0, 1, 2) x (1, 2, 0, 12) : AIC = 803.806950858669\n",
      "ARIMA (0, 1, 2) x (1, 2, 1, 12) : AIC = 471.45445279334217\n",
      "ARIMA (0, 1, 2) x (1, 2, 2, 12) : AIC = 328.0950549851536\n",
      "ARIMA (0, 1, 2) x (2, 0, 0, 12) : AIC = 432.51111827262514\n"
     ]
    },
    {
     "name": "stderr",
     "output_type": "stream",
     "text": [
      "C:\\Users\\kosta\\Anaconda3\\envs\\learn-env\\lib\\site-packages\\statsmodels\\base\\model.py:508: ConvergenceWarning: Maximum Likelihood optimization failed to converge. Check mle_retvals\n",
      "  \"Check mle_retvals\", ConvergenceWarning)\n"
     ]
    },
    {
     "name": "stdout",
     "output_type": "stream",
     "text": [
      "ARIMA (0, 1, 2) x (2, 0, 1, 12) : AIC = 276.9423060808631\n"
     ]
    },
    {
     "name": "stderr",
     "output_type": "stream",
     "text": [
      "C:\\Users\\kosta\\Anaconda3\\envs\\learn-env\\lib\\site-packages\\statsmodels\\base\\model.py:508: ConvergenceWarning: Maximum Likelihood optimization failed to converge. Check mle_retvals\n",
      "  \"Check mle_retvals\", ConvergenceWarning)\n"
     ]
    },
    {
     "name": "stdout",
     "output_type": "stream",
     "text": [
      "ARIMA (0, 1, 2) x (2, 0, 2, 12) : AIC = 276.9244961752908\n",
      "ARIMA (0, 1, 2) x (2, 1, 0, 12) : AIC = 357.72149942212616\n",
      "ARIMA (0, 1, 2) x (2, 1, 1, 12) : AIC = 280.968640606059\n",
      "ARIMA (0, 1, 2) x (2, 1, 2, 12) : AIC = 276.9930099808632\n",
      "ARIMA (0, 1, 2) x (2, 2, 0, 12) : AIC = 646.9466850059074\n",
      "ARIMA (0, 1, 2) x (2, 2, 1, 12) : AIC = 406.42020684773536\n",
      "ARIMA (0, 1, 2) x (2, 2, 2, 12) : AIC = 353.83377862253985\n",
      "ARIMA (0, 2, 0) x (0, 0, 0, 12) : AIC = 1404.245593671727\n",
      "ARIMA (0, 2, 0) x (0, 0, 1, 12) : AIC = 1172.0800568132736\n",
      "ARIMA (0, 2, 0) x (0, 0, 2, 12) : AIC = 1070.1347347289088\n",
      "ARIMA (0, 2, 0) x (0, 1, 0, 12) : AIC = 1103.0126459151052\n",
      "ARIMA (0, 2, 0) x (0, 1, 1, 12) : AIC = 783.0867945114132\n",
      "ARIMA (0, 2, 0) x (0, 1, 2, 12) : AIC = 758.267152010395\n",
      "ARIMA (0, 2, 0) x (0, 2, 0, 12) : AIC = 1582.1830883517732\n",
      "ARIMA (0, 2, 0) x (0, 2, 1, 12) : AIC = 1076.0129314106978\n",
      "ARIMA (0, 2, 0) x (0, 2, 2, 12) : AIC = 828.6484943051435\n",
      "ARIMA (0, 2, 0) x (1, 0, 0, 12) : AIC = 1021.1171007352982\n",
      "ARIMA (0, 2, 0) x (1, 0, 1, 12) : AIC = 838.9628538963909\n",
      "ARIMA (0, 2, 0) x (1, 0, 2, 12) : AIC = 779.3349744564104\n",
      "ARIMA (0, 2, 0) x (1, 1, 0, 12) : AIC = 943.6769861000884\n",
      "ARIMA (0, 2, 0) x (1, 1, 1, 12) : AIC = 781.4979258206491\n",
      "ARIMA (0, 2, 0) x (1, 1, 2, 12) : AIC = 757.569885806304\n",
      "ARIMA (0, 2, 0) x (1, 2, 0, 12) : AIC = 1297.4188021138061\n",
      "ARIMA (0, 2, 0) x (1, 2, 1, 12) : AIC = 976.6855793991585\n",
      "ARIMA (0, 2, 0) x (1, 2, 2, 12) : AIC = 830.0622233165245\n",
      "ARIMA (0, 2, 0) x (2, 0, 0, 12) : AIC = 913.2097387815836"
     ]
    },
    {
     "name": "stderr",
     "output_type": "stream",
     "text": [
      "C:\\Users\\kosta\\Anaconda3\\envs\\learn-env\\lib\\site-packages\\statsmodels\\base\\model.py:508: ConvergenceWarning: Maximum Likelihood optimization failed to converge. Check mle_retvals\n",
      "  \"Check mle_retvals\", ConvergenceWarning)\n"
     ]
    },
    {
     "name": "stdout",
     "output_type": "stream",
     "text": [
      "\n",
      "ARIMA (0, 2, 0) x (2, 0, 1, 12) : AIC = 782.1685417043182\n",
      "ARIMA (0, 2, 0) x (2, 0, 2, 12) : AIC = 774.7409349717475\n",
      "ARIMA (0, 2, 0) x (2, 1, 0, 12) : AIC = 877.6214910982068\n",
      "ARIMA (0, 2, 0) x (2, 1, 1, 12) : AIC = 762.9887384933529\n",
      "ARIMA (0, 2, 0) x (2, 1, 2, 12) : AIC = 759.6343686399583\n",
      "ARIMA (0, 2, 0) x (2, 2, 0, 12) : AIC = 1139.626956515256\n",
      "ARIMA (0, 2, 0) x (2, 2, 1, 12) : AIC = 914.1974015651975\n",
      "ARIMA (0, 2, 0) x (2, 2, 2, 12) : AIC = 842.701555132583\n",
      "ARIMA (0, 2, 1) x (0, 0, 0, 12) : AIC = 1370.564120901827\n",
      "ARIMA (0, 2, 1) x (0, 0, 1, 12) : AIC = 1172.1578071433269\n",
      "ARIMA (0, 2, 1) x (0, 0, 2, 12) : AIC = 1047.0450650362652\n",
      "ARIMA (0, 2, 1) x (0, 1, 0, 12) : AIC = 633.0762519380883\n",
      "ARIMA (0, 2, 1) x (0, 1, 1, 12) : AIC = 346.01905451635946\n",
      "ARIMA (0, 2, 1) x (0, 1, 2, 12) : AIC = 323.0556620134535\n",
      "ARIMA (0, 2, 1) x (0, 2, 0, 12) : AIC = 1129.4727941992262\n",
      "ARIMA (0, 2, 1) x (0, 2, 1, 12) : AIC = 640.6715363297542\n",
      "ARIMA (0, 2, 1) x (0, 2, 2, 12) : AIC = 405.486590002276\n",
      "ARIMA (0, 2, 1) x (1, 0, 0, 12) : AIC = 627.7904801007013\n",
      "ARIMA (0, 2, 1) x (1, 0, 1, 12) : AIC = 381.2193573335788\n",
      "ARIMA (0, 2, 1) x (1, 0, 2, 12) : AIC = 328.65028998730276\n",
      "ARIMA (0, 2, 1) x (1, 1, 0, 12) : AIC = 486.5810640944137\n",
      "ARIMA (0, 2, 1) x (1, 1, 1, 12) : AIC = 332.5320664484579\n",
      "ARIMA (0, 2, 1) x (1, 1, 2, 12) : AIC = 322.78708835214786\n",
      "ARIMA (0, 2, 1) x (1, 2, 0, 12) : AIC = 851.3719334280192\n",
      "ARIMA (0, 2, 1) x (1, 2, 1, 12) : AIC = 534.1875274327986\n",
      "ARIMA (0, 2, 1) x (1, 2, 2, 12) : AIC = 389.89092232032095\n",
      "ARIMA (0, 2, 1) x (2, 0, 0, 12) : AIC = 484.18715970970794\n",
      "ARIMA (0, 2, 1) x (2, 0, 1, 12) : AIC = 333.21851798969936\n",
      "ARIMA (0, 2, 1) x (2, 0, 2, 12) : AIC = 328.2352185536587\n",
      "ARIMA (0, 2, 1) x (2, 1, 0, 12) : AIC = 424.8477880457873\n",
      "ARIMA (0, 2, 1) x (2, 1, 1, 12) : AIC = 334.40141362881656\n",
      "ARIMA (0, 2, 1) x (2, 1, 2, 12) : AIC = 328.98996768697236\n",
      "ARIMA (0, 2, 1) x (2, 2, 0, 12) : AIC = 702.9320548880117\n",
      "ARIMA (0, 2, 1) x (2, 2, 1, 12) : AIC = 477.3814861692053\n",
      "ARIMA (0, 2, 1) x (2, 2, 2, 12) : AIC = 417.2321263005307\n",
      "ARIMA (0, 2, 2) x (0, 0, 0, 12) : AIC = 1351.7079287900174\n",
      "ARIMA (0, 2, 2) x (0, 0, 1, 12) : AIC = 1170.695711676838\n",
      "ARIMA (0, 2, 2) x (0, 0, 2, 12) : AIC = 949.9689882821215\n",
      "ARIMA (0, 2, 2) x (0, 1, 0, 12) : AIC = 576.489399799945\n",
      "ARIMA (0, 2, 2) x (0, 1, 1, 12) : AIC = 307.0745269374002\n",
      "ARIMA (0, 2, 2) x (0, 1, 2, 12) : AIC = 284.3504794589633\n",
      "ARIMA (0, 2, 2) x (0, 2, 0, 12) : AIC = 1086.2631978145118\n",
      "ARIMA (0, 2, 2) x (0, 2, 1, 12) : AIC = 601.4169322229181\n",
      "ARIMA (0, 2, 2) x (0, 2, 2, 12) : AIC = 360.9297355654309\n",
      "ARIMA (0, 2, 2) x (1, 0, 0, 12) : AIC = 593.1928052764465\n",
      "ARIMA (0, 2, 2) x (1, 0, 1, 12) : AIC = 330.62464124218656\n",
      "ARIMA (0, 2, 2) x (1, 0, 2, 12) : AIC = 287.9815418609747\n",
      "ARIMA (0, 2, 2) x (1, 1, 0, 12) : AIC = 442.2679120842467\n",
      "ARIMA (0, 2, 2) x (1, 1, 1, 12) : AIC = 290.71899575801154\n",
      "ARIMA (0, 2, 2) x (1, 1, 2, 12) : AIC = 284.24671433988334\n",
      "ARIMA (0, 2, 2) x (1, 2, 0, 12) : AIC = 811.5417212498502\n",
      "ARIMA (0, 2, 2) x (1, 2, 1, 12) : AIC = 487.23198478798275\n",
      "ARIMA (0, 2, 2) x (1, 2, 2, 12) : AIC = 342.11070588086056\n",
      "ARIMA (0, 2, 2) x (2, 0, 0, 12) : AIC = 442.8044453791801\n",
      "ARIMA (0, 2, 2) x (2, 0, 1, 12) : AIC = 288.9670984658885\n"
     ]
    },
    {
     "name": "stderr",
     "output_type": "stream",
     "text": [
      "C:\\Users\\kosta\\Anaconda3\\envs\\learn-env\\lib\\site-packages\\statsmodels\\base\\model.py:508: ConvergenceWarning: Maximum Likelihood optimization failed to converge. Check mle_retvals\n",
      "  \"Check mle_retvals\", ConvergenceWarning)\n"
     ]
    },
    {
     "name": "stdout",
     "output_type": "stream",
     "text": [
      "ARIMA (0, 2, 2) x (2, 0, 2, 12) : AIC = 288.38661523273294\n",
      "ARIMA (0, 2, 2) x (2, 1, 0, 12) : AIC = 369.3170060909972\n",
      "ARIMA (0, 2, 2) x (2, 1, 1, 12) : AIC = 294.29227892096526\n",
      "ARIMA (0, 2, 2) x (2, 1, 2, 12) : AIC = 288.22689599197946\n",
      "ARIMA (0, 2, 2) x (2, 2, 0, 12) : AIC = 656.9921368453389\n",
      "ARIMA (0, 2, 2) x (2, 2, 1, 12) : AIC = 422.8158782515736\n",
      "ARIMA (0, 2, 2) x (2, 2, 2, 12) : AIC = 371.0648931704804\n",
      "ARIMA (1, 0, 0) x (0, 0, 0, 12) : AIC = 1676.8881767362054\n"
     ]
    },
    {
     "name": "stderr",
     "output_type": "stream",
     "text": [
      "C:\\Users\\kosta\\Anaconda3\\envs\\learn-env\\lib\\site-packages\\statsmodels\\base\\model.py:508: ConvergenceWarning: Maximum Likelihood optimization failed to converge. Check mle_retvals\n",
      "  \"Check mle_retvals\", ConvergenceWarning)\n"
     ]
    },
    {
     "name": "stdout",
     "output_type": "stream",
     "text": [
      "ARIMA (1, 0, 0) x (0, 0, 1, 12) : AIC = 1241.9354689077231\n"
     ]
    },
    {
     "name": "stderr",
     "output_type": "stream",
     "text": [
      "C:\\Users\\kosta\\Anaconda3\\envs\\learn-env\\lib\\site-packages\\statsmodels\\base\\model.py:508: ConvergenceWarning: Maximum Likelihood optimization failed to converge. Check mle_retvals\n",
      "  \"Check mle_retvals\", ConvergenceWarning)\n"
     ]
    },
    {
     "name": "stdout",
     "output_type": "stream",
     "text": [
      "ARIMA (1, 0, 0) x (0, 0, 2, 12) : AIC = 1167.7380063346145\n",
      "ARIMA (1, 0, 0) x (0, 1, 0, 12) : AIC = 624.2602350563734\n",
      "ARIMA (1, 0, 0) x (0, 1, 1, 12) : AIC = 341.28966148164375\n",
      "ARIMA (1, 0, 0) x (0, 1, 2, 12) : AIC = 317.7579980370775\n",
      "ARIMA (1, 0, 0) x (0, 2, 0, 12) : AIC = 1056.6362762702188\n",
      "ARIMA (1, 0, 0) x (0, 2, 1, 12) : AIC = 586.5029302278969\n",
      "ARIMA (1, 0, 0) x (0, 2, 2, 12) : AIC = 393.2092447927021\n",
      "ARIMA (1, 0, 0) x (1, 0, 0, 12) : AIC = 579.3897229132237\n"
     ]
    },
    {
     "name": "stderr",
     "output_type": "stream",
     "text": [
      "C:\\Users\\kosta\\Anaconda3\\envs\\learn-env\\lib\\site-packages\\statsmodels\\base\\model.py:508: ConvergenceWarning: Maximum Likelihood optimization failed to converge. Check mle_retvals\n",
      "  \"Check mle_retvals\", ConvergenceWarning)\n"
     ]
    },
    {
     "name": "stdout",
     "output_type": "stream",
     "text": [
      "ARIMA (1, 0, 0) x (1, 0, 1, 12) : AIC = 370.59200702735257\n",
      "ARIMA (1, 0, 0) x (1, 0, 2, 12) : AIC = 311.5389430928642\n",
      "ARIMA (1, 0, 0) x (1, 1, 0, 12) : AIC = 476.0500429124218\n",
      "ARIMA (1, 0, 0) x (1, 1, 1, 12) : AIC = 329.58449918088866\n",
      "ARIMA (1, 0, 0) x (1, 1, 2, 12) : AIC = 317.6868858322184\n",
      "ARIMA (1, 0, 0) x (1, 2, 0, 12) : AIC = 788.5235212962984\n",
      "ARIMA (1, 0, 0) x (1, 2, 1, 12) : AIC = 492.7659256882232\n",
      "ARIMA (1, 0, 0) x (1, 2, 2, 12) : AIC = 377.02204185832136\n",
      "ARIMA (1, 0, 0) x (2, 0, 0, 12) : AIC = 444.61409278572944\n",
      "ARIMA (1, 0, 0) x (2, 0, 1, 12) : AIC = 313.31128966242113\n"
     ]
    },
    {
     "name": "stderr",
     "output_type": "stream",
     "text": [
      "C:\\Users\\kosta\\Anaconda3\\envs\\learn-env\\lib\\site-packages\\statsmodels\\base\\model.py:508: ConvergenceWarning: Maximum Likelihood optimization failed to converge. Check mle_retvals\n",
      "  \"Check mle_retvals\", ConvergenceWarning)\n"
     ]
    },
    {
     "name": "stdout",
     "output_type": "stream",
     "text": [
      "ARIMA (1, 0, 0) x (2, 0, 2, 12) : AIC = 312.00218090065596\n",
      "ARIMA (1, 0, 0) x (2, 1, 0, 12) : AIC = 416.41269118064133\n",
      "ARIMA (1, 0, 0) x (2, 1, 1, 12) : AIC = 320.26556499890984\n",
      "ARIMA (1, 0, 0) x (2, 1, 2, 12) : AIC = 322.49830117357186\n",
      "ARIMA (1, 0, 0) x (2, 2, 0, 12) : AIC = 645.3528041798618\n",
      "ARIMA (1, 0, 0) x (2, 2, 1, 12) : AIC = 441.42328476912695\n",
      "ARIMA (1, 0, 0) x (2, 2, 2, 12) : AIC = 403.2414719079663\n",
      "ARIMA (1, 0, 1) x (0, 0, 0, 12) : AIC = 1372.6085881757353\n",
      "ARIMA (1, 0, 1) x (0, 0, 1, 12) : AIC = 1199.4888161832912\n"
     ]
    },
    {
     "name": "stderr",
     "output_type": "stream",
     "text": [
      "C:\\Users\\kosta\\Anaconda3\\envs\\learn-env\\lib\\site-packages\\statsmodels\\base\\model.py:508: ConvergenceWarning: Maximum Likelihood optimization failed to converge. Check mle_retvals\n",
      "  \"Check mle_retvals\", ConvergenceWarning)\n"
     ]
    },
    {
     "name": "stdout",
     "output_type": "stream",
     "text": [
      "ARIMA (1, 0, 1) x (0, 0, 2, 12) : AIC = 1064.486288839951\n",
      "ARIMA (1, 0, 1) x (0, 1, 0, 12) : AIC = 586.4485733402275\n",
      "ARIMA (1, 0, 1) x (0, 1, 1, 12) : AIC = 305.62738363981595\n",
      "ARIMA (1, 0, 1) x (0, 1, 2, 12) : AIC = 276.604065423266\n",
      "ARIMA (1, 0, 1) x (0, 2, 0, 12) : AIC = 1048.7290115198887\n",
      "ARIMA (1, 0, 1) x (0, 2, 1, 12) : AIC = 570.4263048151265\n",
      "ARIMA (1, 0, 1) x (0, 2, 2, 12) : AIC = 356.4813062047033\n"
     ]
    },
    {
     "name": "stderr",
     "output_type": "stream",
     "text": [
      "C:\\Users\\kosta\\Anaconda3\\envs\\learn-env\\lib\\site-packages\\statsmodels\\base\\model.py:508: ConvergenceWarning: Maximum Likelihood optimization failed to converge. Check mle_retvals\n",
      "  \"Check mle_retvals\", ConvergenceWarning)\n"
     ]
    },
    {
     "name": "stdout",
     "output_type": "stream",
     "text": [
      "ARIMA (1, 0, 1) x (1, 0, 0, 12) : AIC = 587.1600566763905\n",
      "ARIMA (1, 0, 1) x (1, 0, 1, 12) : AIC = 398.2819005841991\n"
     ]
    },
    {
     "name": "stderr",
     "output_type": "stream",
     "text": [
      "C:\\Users\\kosta\\Anaconda3\\envs\\learn-env\\lib\\site-packages\\statsmodels\\base\\model.py:508: ConvergenceWarning: Maximum Likelihood optimization failed to converge. Check mle_retvals\n",
      "  \"Check mle_retvals\", ConvergenceWarning)\n"
     ]
    },
    {
     "name": "stdout",
     "output_type": "stream",
     "text": [
      "ARIMA (1, 0, 1) x (1, 0, 2, 12) : AIC = 363.8334047451474\n",
      "ARIMA (1, 0, 1) x (1, 1, 0, 12) : AIC = 433.5469464368633\n",
      "ARIMA (1, 0, 1) x (1, 1, 1, 12) : AIC = 285.7651697087495\n",
      "ARIMA (1, 0, 1) x (1, 1, 2, 12) : AIC = 276.9661926717313\n",
      "ARIMA (1, 0, 1) x (1, 2, 0, 12) : AIC = 775.0363308127481\n",
      "ARIMA (1, 0, 1) x (1, 2, 1, 12) : AIC = 463.8858234681884\n",
      "ARIMA (1, 0, 1) x (1, 2, 2, 12) : AIC = 334.033051782137\n"
     ]
    },
    {
     "name": "stderr",
     "output_type": "stream",
     "text": [
      "C:\\Users\\kosta\\Anaconda3\\envs\\learn-env\\lib\\site-packages\\statsmodels\\base\\model.py:508: ConvergenceWarning: Maximum Likelihood optimization failed to converge. Check mle_retvals\n",
      "  \"Check mle_retvals\", ConvergenceWarning)\n"
     ]
    },
    {
     "name": "stdout",
     "output_type": "stream",
     "text": [
      "ARIMA (1, 0, 1) x (2, 0, 0, 12) : AIC = 491.69400020086715\n",
      "ARIMA (1, 0, 1) x (2, 0, 1, 12) : AIC = 385.50605402228155\n"
     ]
    },
    {
     "name": "stderr",
     "output_type": "stream",
     "text": [
      "C:\\Users\\kosta\\Anaconda3\\envs\\learn-env\\lib\\site-packages\\statsmodels\\base\\model.py:508: ConvergenceWarning: Maximum Likelihood optimization failed to converge. Check mle_retvals\n",
      "  \"Check mle_retvals\", ConvergenceWarning)\n"
     ]
    },
    {
     "name": "stdout",
     "output_type": "stream",
     "text": [
      "ARIMA (1, 0, 1) x (2, 0, 2, 12) : AIC = 434.3187284940081\n",
      "ARIMA (1, 0, 1) x (2, 1, 0, 12) : AIC = 361.4280408255878\n",
      "ARIMA (1, 0, 1) x (2, 1, 1, 12) : AIC = 283.9810983843446\n",
      "ARIMA (1, 0, 1) x (2, 1, 2, 12) : AIC = 280.25176788334284\n",
      "ARIMA (1, 0, 1) x (2, 2, 0, 12) : AIC = 626.898273440368\n",
      "ARIMA (1, 0, 1) x (2, 2, 1, 12) : AIC = 401.5614117528321\n",
      "ARIMA (1, 0, 1) x (2, 2, 2, 12) : AIC = 357.8298539991539\n",
      "ARIMA (1, 0, 2) x (0, 0, 0, 12) : AIC = 1241.827656190278\n"
     ]
    },
    {
     "name": "stderr",
     "output_type": "stream",
     "text": [
      "C:\\Users\\kosta\\Anaconda3\\envs\\learn-env\\lib\\site-packages\\statsmodels\\base\\model.py:508: ConvergenceWarning: Maximum Likelihood optimization failed to converge. Check mle_retvals\n",
      "  \"Check mle_retvals\", ConvergenceWarning)\n"
     ]
    },
    {
     "name": "stdout",
     "output_type": "stream",
     "text": [
      "ARIMA (1, 0, 2) x (0, 0, 1, 12) : AIC = 1054.9736397526185\n",
      "ARIMA (1, 0, 2) x (0, 0, 2, 12) : AIC = 1007.2278588316102\n",
      "ARIMA (1, 0, 2) x (0, 1, 0, 12) : AIC = 581.9154274611859\n"
     ]
    },
    {
     "name": "stderr",
     "output_type": "stream",
     "text": [
      "C:\\Users\\kosta\\Anaconda3\\envs\\learn-env\\lib\\site-packages\\statsmodels\\base\\model.py:508: ConvergenceWarning: Maximum Likelihood optimization failed to converge. Check mle_retvals\n",
      "  \"Check mle_retvals\", ConvergenceWarning)\n"
     ]
    },
    {
     "name": "stdout",
     "output_type": "stream",
     "text": [
      "ARIMA (1, 0, 2) x (0, 1, 1, 12) : AIC = 300.71041915163573\n",
      "ARIMA (1, 0, 2) x (0, 1, 2, 12) : AIC = 274.53648467436597\n",
      "ARIMA (1, 0, 2) x (0, 2, 0, 12) : AIC = 1049.4459151084523\n",
      "ARIMA (1, 0, 2) x (0, 2, 1, 12) : AIC = 570.3872894725994\n",
      "ARIMA (1, 0, 2) x (0, 2, 2, 12) : AIC = 348.59398203979396\n",
      "ARIMA (1, 0, 2) x (1, 0, 0, 12) : AIC = 581.6873897344855\n"
     ]
    },
    {
     "name": "stderr",
     "output_type": "stream",
     "text": [
      "C:\\Users\\kosta\\Anaconda3\\envs\\learn-env\\lib\\site-packages\\statsmodels\\base\\model.py:508: ConvergenceWarning: Maximum Likelihood optimization failed to converge. Check mle_retvals\n",
      "  \"Check mle_retvals\", ConvergenceWarning)\n"
     ]
    },
    {
     "name": "stdout",
     "output_type": "stream",
     "text": [
      "ARIMA (1, 0, 2) x (1, 0, 1, 12) : AIC = 327.4999135994951\n",
      "ARIMA (1, 0, 2) x (1, 0, 2, 12) : AIC = 271.12986221689846\n",
      "ARIMA (1, 0, 2) x (1, 1, 0, 12) : AIC = 432.70193103335805\n",
      "ARIMA (1, 0, 2) x (1, 1, 1, 12) : AIC = 282.9994155876477\n"
     ]
    },
    {
     "name": "stderr",
     "output_type": "stream",
     "text": [
      "C:\\Users\\kosta\\Anaconda3\\envs\\learn-env\\lib\\site-packages\\statsmodels\\base\\model.py:508: ConvergenceWarning: Maximum Likelihood optimization failed to converge. Check mle_retvals\n",
      "  \"Check mle_retvals\", ConvergenceWarning)\n"
     ]
    },
    {
     "name": "stdout",
     "output_type": "stream",
     "text": [
      "ARIMA (1, 0, 2) x (1, 1, 2, 12) : AIC = 275.3596698818508\n",
      "ARIMA (1, 0, 2) x (1, 2, 0, 12) : AIC = 776.8185161873275\n",
      "ARIMA (1, 0, 2) x (1, 2, 1, 12) : AIC = 464.1248129577902\n"
     ]
    },
    {
     "name": "stderr",
     "output_type": "stream",
     "text": [
      "C:\\Users\\kosta\\Anaconda3\\envs\\learn-env\\lib\\site-packages\\statsmodels\\base\\model.py:508: ConvergenceWarning: Maximum Likelihood optimization failed to converge. Check mle_retvals\n",
      "  \"Check mle_retvals\", ConvergenceWarning)\n"
     ]
    },
    {
     "name": "stdout",
     "output_type": "stream",
     "text": [
      "ARIMA (1, 0, 2) x (1, 2, 2, 12) : AIC = 328.9852380935106\n",
      "ARIMA (1, 0, 2) x (2, 0, 0, 12) : AIC = 422.01331089060596\n"
     ]
    },
    {
     "name": "stderr",
     "output_type": "stream",
     "text": [
      "C:\\Users\\kosta\\Anaconda3\\envs\\learn-env\\lib\\site-packages\\statsmodels\\base\\model.py:508: ConvergenceWarning: Maximum Likelihood optimization failed to converge. Check mle_retvals\n",
      "  \"Check mle_retvals\", ConvergenceWarning)\n"
     ]
    },
    {
     "name": "stdout",
     "output_type": "stream",
     "text": [
      "ARIMA (1, 0, 2) x (2, 0, 1, 12) : AIC = 279.33175855984064\n"
     ]
    },
    {
     "name": "stderr",
     "output_type": "stream",
     "text": [
      "C:\\Users\\kosta\\Anaconda3\\envs\\learn-env\\lib\\site-packages\\statsmodels\\base\\model.py:508: ConvergenceWarning: Maximum Likelihood optimization failed to converge. Check mle_retvals\n",
      "  \"Check mle_retvals\", ConvergenceWarning)\n"
     ]
    },
    {
     "name": "stdout",
     "output_type": "stream",
     "text": [
      "ARIMA (1, 0, 2) x (2, 0, 2, 12) : AIC = 281.3061453031219\n",
      "ARIMA (1, 0, 2) x (2, 1, 0, 12) : AIC = 359.3872748080272\n"
     ]
    },
    {
     "name": "stderr",
     "output_type": "stream",
     "text": [
      "C:\\Users\\kosta\\Anaconda3\\envs\\learn-env\\lib\\site-packages\\statsmodels\\base\\model.py:508: ConvergenceWarning: Maximum Likelihood optimization failed to converge. Check mle_retvals\n",
      "  \"Check mle_retvals\", ConvergenceWarning)\n"
     ]
    },
    {
     "name": "stdout",
     "output_type": "stream",
     "text": [
      "ARIMA (1, 0, 2) x (2, 1, 1, 12) : AIC = 281.5344456195418\n"
     ]
    },
    {
     "name": "stderr",
     "output_type": "stream",
     "text": [
      "C:\\Users\\kosta\\Anaconda3\\envs\\learn-env\\lib\\site-packages\\statsmodels\\base\\model.py:508: ConvergenceWarning: Maximum Likelihood optimization failed to converge. Check mle_retvals\n",
      "  \"Check mle_retvals\", ConvergenceWarning)\n"
     ]
    },
    {
     "name": "stdout",
     "output_type": "stream",
     "text": [
      "ARIMA (1, 0, 2) x (2, 1, 2, 12) : AIC = 278.13934487515917\n",
      "ARIMA (1, 0, 2) x (2, 2, 0, 12) : AIC = 628.3031305981797\n",
      "ARIMA (1, 0, 2) x (2, 2, 1, 12) : AIC = 400.8615483344345\n",
      "ARIMA (1, 0, 2) x (2, 2, 2, 12) : AIC = 352.9951111847049\n",
      "ARIMA (1, 1, 0) x (0, 0, 0, 12) : AIC = 1324.311112732457\n",
      "ARIMA (1, 1, 0) x (0, 0, 1, 12) : AIC = 1060.9351914433164\n"
     ]
    },
    {
     "name": "stderr",
     "output_type": "stream",
     "text": [
      "C:\\Users\\kosta\\Anaconda3\\envs\\learn-env\\lib\\site-packages\\statsmodels\\base\\model.py:508: ConvergenceWarning: Maximum Likelihood optimization failed to converge. Check mle_retvals\n",
      "  \"Check mle_retvals\", ConvergenceWarning)\n"
     ]
    },
    {
     "name": "stdout",
     "output_type": "stream",
     "text": [
      "ARIMA (1, 1, 0) x (0, 0, 2, 12) : AIC = 928.402579967262\n",
      "ARIMA (1, 1, 0) x (0, 1, 0, 12) : AIC = 600.7412682874252\n",
      "ARIMA (1, 1, 0) x (0, 1, 1, 12) : AIC = 312.1329632361338\n",
      "ARIMA (1, 1, 0) x (0, 1, 2, 12) : AIC = 283.61066816148275\n",
      "ARIMA (1, 1, 0) x (0, 2, 0, 12) : AIC = 1100.753765041099\n"
     ]
    },
    {
     "name": "stderr",
     "output_type": "stream",
     "text": [
      "C:\\Users\\kosta\\Anaconda3\\envs\\learn-env\\lib\\site-packages\\statsmodels\\base\\model.py:508: ConvergenceWarning: Maximum Likelihood optimization failed to converge. Check mle_retvals\n",
      "  \"Check mle_retvals\", ConvergenceWarning)\n"
     ]
    },
    {
     "name": "stdout",
     "output_type": "stream",
     "text": [
      "ARIMA (1, 1, 0) x (0, 2, 1, 12) : AIC = 604.0828462290715\n",
      "ARIMA (1, 1, 0) x (0, 2, 2, 12) : AIC = 368.85441997160933\n",
      "ARIMA (1, 1, 0) x (1, 0, 0, 12) : AIC = 593.6637754853627\n",
      "ARIMA (1, 1, 0) x (1, 0, 1, 12) : AIC = 349.20914649282884\n",
      "ARIMA (1, 1, 0) x (1, 0, 2, 12) : AIC = 284.02369384321383\n",
      "ARIMA (1, 1, 0) x (1, 1, 0, 12) : AIC = 440.1375884358338\n",
      "ARIMA (1, 1, 0) x (1, 1, 1, 12) : AIC = 293.7426222758842\n",
      "ARIMA (1, 1, 0) x (1, 1, 2, 12) : AIC = 284.40487899669625\n",
      "ARIMA (1, 1, 0) x (1, 2, 0, 12) : AIC = 805.7976970397267\n",
      "ARIMA (1, 1, 0) x (1, 2, 1, 12) : AIC = 485.8940090747662\n",
      "ARIMA (1, 1, 0) x (1, 2, 2, 12) : AIC = 351.4554812299004\n",
      "ARIMA (1, 1, 0) x (2, 0, 0, 12) : AIC = 440.0550744317117\n",
      "ARIMA (1, 1, 0) x (2, 0, 1, 12) : AIC = 284.9458625897722\n",
      "ARIMA (1, 1, 0) x (2, 0, 2, 12) : AIC = 286.5233472615665\n",
      "ARIMA (1, 1, 0) x (2, 1, 0, 12) : AIC = 374.9066287308649\n",
      "ARIMA (1, 1, 0) x (2, 1, 1, 12) : AIC = 289.9107329346728\n",
      "ARIMA (1, 1, 0) x (2, 1, 2, 12) : AIC = 288.80059622667716\n",
      "ARIMA (1, 1, 0) x (2, 2, 0, 12) : AIC = 658.622449333863\n",
      "ARIMA (1, 1, 0) x (2, 2, 1, 12) : AIC = 423.42201291869185\n",
      "ARIMA (1, 1, 0) x (2, 2, 2, 12) : AIC = 371.51905978051735\n",
      "ARIMA (1, 1, 1) x (0, 0, 0, 12) : AIC = 1262.654554246477\n",
      "ARIMA (1, 1, 1) x (0, 0, 1, 12) : AIC = 1052.0636724059016\n",
      "ARIMA (1, 1, 1) x (0, 0, 2, 12) : AIC = 927.686152103196\n",
      "ARIMA (1, 1, 1) x (0, 1, 0, 12) : AIC = 581.3099935049833\n",
      "ARIMA (1, 1, 1) x (0, 1, 1, 12) : AIC = 295.93740595228724\n",
      "ARIMA (1, 1, 1) x (0, 1, 2, 12) : AIC = 272.2101594177338\n",
      "ARIMA (1, 1, 1) x (0, 2, 0, 12) : AIC = 1083.179452372123\n",
      "ARIMA (1, 1, 1) x (0, 2, 1, 12) : AIC = 587.7790363369713\n",
      "ARIMA (1, 1, 1) x (0, 2, 2, 12) : AIC = 346.42826571819324\n",
      "ARIMA (1, 1, 1) x (1, 0, 0, 12) : AIC = 576.864711170258\n",
      "ARIMA (1, 1, 1) x (1, 0, 1, 12) : AIC = 327.9048990752183\n",
      "ARIMA (1, 1, 1) x (1, 0, 2, 12) : AIC = 275.0584790807926\n",
      "ARIMA (1, 1, 1) x (1, 1, 0, 12) : AIC = 428.6024633184294\n",
      "ARIMA (1, 1, 1) x (1, 1, 1, 12) : AIC = 277.7802198921478\n",
      "ARIMA (1, 1, 1) x (1, 1, 2, 12) : AIC = 272.53126089174987\n",
      "ARIMA (1, 1, 1) x (1, 2, 0, 12) : AIC = 799.8781988939155\n",
      "ARIMA (1, 1, 1) x (1, 2, 1, 12) : AIC = 473.86996599188114\n"
     ]
    },
    {
     "name": "stderr",
     "output_type": "stream",
     "text": [
      "C:\\Users\\kosta\\Anaconda3\\envs\\learn-env\\lib\\site-packages\\statsmodels\\base\\model.py:508: ConvergenceWarning: Maximum Likelihood optimization failed to converge. Check mle_retvals\n",
      "  \"Check mle_retvals\", ConvergenceWarning)\n"
     ]
    },
    {
     "name": "stdout",
     "output_type": "stream",
     "text": [
      "ARIMA (1, 1, 1) x (1, 2, 2, 12) : AIC = 327.03271880806903\n",
      "ARIMA (1, 1, 1) x (2, 0, 0, 12) : AIC = 428.3034417320458\n"
     ]
    },
    {
     "name": "stderr",
     "output_type": "stream",
     "text": [
      "C:\\Users\\kosta\\Anaconda3\\envs\\learn-env\\lib\\site-packages\\statsmodels\\base\\model.py:508: ConvergenceWarning: Maximum Likelihood optimization failed to converge. Check mle_retvals\n",
      "  \"Check mle_retvals\", ConvergenceWarning)\n"
     ]
    },
    {
     "name": "stdout",
     "output_type": "stream",
     "text": [
      "ARIMA (1, 1, 1) x (2, 0, 1, 12) : AIC = 274.9013178563433\n"
     ]
    },
    {
     "name": "stderr",
     "output_type": "stream",
     "text": [
      "C:\\Users\\kosta\\Anaconda3\\envs\\learn-env\\lib\\site-packages\\statsmodels\\base\\model.py:508: ConvergenceWarning: Maximum Likelihood optimization failed to converge. Check mle_retvals\n",
      "  \"Check mle_retvals\", ConvergenceWarning)\n"
     ]
    },
    {
     "name": "stdout",
     "output_type": "stream",
     "text": [
      "ARIMA (1, 1, 1) x (2, 0, 2, 12) : AIC = 275.0548136704289\n",
      "ARIMA (1, 1, 1) x (2, 1, 0, 12) : AIC = 356.77336569933004\n",
      "ARIMA (1, 1, 1) x (2, 1, 1, 12) : AIC = 277.07242189585173\n",
      "ARIMA (1, 1, 1) x (2, 1, 2, 12) : AIC = 275.67449480142506\n",
      "ARIMA (1, 1, 1) x (2, 2, 0, 12) : AIC = 645.7669566053742\n",
      "ARIMA (1, 1, 1) x (2, 2, 1, 12) : AIC = 405.56027923709695\n",
      "ARIMA (1, 1, 1) x (2, 2, 2, 12) : AIC = 353.8863184881815\n",
      "ARIMA (1, 1, 2) x (0, 0, 0, 12) : AIC = 1210.6092459546476\n",
      "ARIMA (1, 1, 2) x (0, 0, 1, 12) : AIC = 1020.7360934362648\n",
      "ARIMA (1, 1, 2) x (0, 0, 2, 12) : AIC = 902.452178734575\n",
      "ARIMA (1, 1, 2) x (0, 1, 0, 12) : AIC = 568.8958761397042\n",
      "ARIMA (1, 1, 2) x (0, 1, 1, 12) : AIC = 295.7408859195101\n",
      "ARIMA (1, 1, 2) x (0, 1, 2, 12) : AIC = 272.94034352778533\n",
      "ARIMA (1, 1, 2) x (0, 2, 0, 12) : AIC = 1078.7156663947262\n",
      "ARIMA (1, 1, 2) x (0, 2, 1, 12) : AIC = 584.8792757005325\n",
      "ARIMA (1, 1, 2) x (0, 2, 2, 12) : AIC = 347.84553915725746\n",
      "ARIMA (1, 1, 2) x (1, 0, 0, 12) : AIC = 578.7787268141152\n",
      "ARIMA (1, 1, 2) x (1, 0, 1, 12) : AIC = 322.1834561410456\n"
     ]
    },
    {
     "name": "stderr",
     "output_type": "stream",
     "text": [
      "C:\\Users\\kosta\\Anaconda3\\envs\\learn-env\\lib\\site-packages\\statsmodels\\base\\model.py:508: ConvergenceWarning: Maximum Likelihood optimization failed to converge. Check mle_retvals\n",
      "  \"Check mle_retvals\", ConvergenceWarning)\n"
     ]
    },
    {
     "name": "stdout",
     "output_type": "stream",
     "text": [
      "ARIMA (1, 1, 2) x (1, 0, 2, 12) : AIC = 276.29346291041065\n",
      "ARIMA (1, 1, 2) x (1, 1, 0, 12) : AIC = 430.2996801493606\n",
      "ARIMA (1, 1, 2) x (1, 1, 1, 12) : AIC = 278.98642425679043\n",
      "ARIMA (1, 1, 2) x (1, 1, 2, 12) : AIC = 273.6242806853017\n",
      "ARIMA (1, 1, 2) x (1, 2, 0, 12) : AIC = 801.084772883034\n",
      "ARIMA (1, 1, 2) x (1, 2, 1, 12) : AIC = 471.87924158054227\n"
     ]
    },
    {
     "name": "stderr",
     "output_type": "stream",
     "text": [
      "C:\\Users\\kosta\\Anaconda3\\envs\\learn-env\\lib\\site-packages\\statsmodels\\base\\model.py:508: ConvergenceWarning: Maximum Likelihood optimization failed to converge. Check mle_retvals\n",
      "  \"Check mle_retvals\", ConvergenceWarning)\n"
     ]
    },
    {
     "name": "stdout",
     "output_type": "stream",
     "text": [
      "ARIMA (1, 1, 2) x (1, 2, 2, 12) : AIC = 328.6339090045371\n",
      "ARIMA (1, 1, 2) x (2, 0, 0, 12) : AIC = 430.2799558395888\n",
      "ARIMA (1, 1, 2) x (2, 0, 1, 12) : AIC = 276.7385347573221\n"
     ]
    },
    {
     "name": "stderr",
     "output_type": "stream",
     "text": [
      "C:\\Users\\kosta\\Anaconda3\\envs\\learn-env\\lib\\site-packages\\statsmodels\\base\\model.py:508: ConvergenceWarning: Maximum Likelihood optimization failed to converge. Check mle_retvals\n",
      "  \"Check mle_retvals\", ConvergenceWarning)\n"
     ]
    },
    {
     "name": "stdout",
     "output_type": "stream",
     "text": [
      "ARIMA (1, 1, 2) x (2, 0, 2, 12) : AIC = 277.7502497646021\n",
      "ARIMA (1, 1, 2) x (2, 1, 0, 12) : AIC = 358.7597033113239\n",
      "ARIMA (1, 1, 2) x (2, 1, 1, 12) : AIC = 278.82677454468285\n",
      "ARIMA (1, 1, 2) x (2, 1, 2, 12) : AIC = 277.3139303426537\n",
      "ARIMA (1, 1, 2) x (2, 2, 0, 12) : AIC = 647.7667224498617\n",
      "ARIMA (1, 1, 2) x (2, 2, 1, 12) : AIC = 407.5417843765739\n"
     ]
    },
    {
     "name": "stderr",
     "output_type": "stream",
     "text": [
      "C:\\Users\\kosta\\Anaconda3\\envs\\learn-env\\lib\\site-packages\\statsmodels\\base\\model.py:508: ConvergenceWarning: Maximum Likelihood optimization failed to converge. Check mle_retvals\n",
      "  \"Check mle_retvals\", ConvergenceWarning)\n"
     ]
    },
    {
     "name": "stdout",
     "output_type": "stream",
     "text": [
      "ARIMA (1, 1, 2) x (2, 2, 2, 12) : AIC = 354.4675367242689\n",
      "ARIMA (1, 2, 0) x (0, 0, 0, 12) : AIC = 1374.845379561723\n",
      "ARIMA (1, 2, 0) x (0, 0, 1, 12) : AIC = 1174.0210238096033\n"
     ]
    },
    {
     "name": "stderr",
     "output_type": "stream",
     "text": [
      "C:\\Users\\kosta\\Anaconda3\\envs\\learn-env\\lib\\site-packages\\statsmodels\\base\\model.py:508: ConvergenceWarning: Maximum Likelihood optimization failed to converge. Check mle_retvals\n",
      "  \"Check mle_retvals\", ConvergenceWarning)\n"
     ]
    },
    {
     "name": "stdout",
     "output_type": "stream",
     "text": [
      "ARIMA (1, 2, 0) x (0, 0, 2, 12) : AIC = 1051.843496188873\n",
      "ARIMA (1, 2, 0) x (0, 1, 0, 12) : AIC = 892.6899020786598\n"
     ]
    },
    {
     "name": "stderr",
     "output_type": "stream",
     "text": [
      "C:\\Users\\kosta\\Anaconda3\\envs\\learn-env\\lib\\site-packages\\statsmodels\\base\\model.py:508: ConvergenceWarning: Maximum Likelihood optimization failed to converge. Check mle_retvals\n",
      "  \"Check mle_retvals\", ConvergenceWarning)\n"
     ]
    },
    {
     "name": "stdout",
     "output_type": "stream",
     "text": [
      "ARIMA (1, 2, 0) x (0, 1, 1, 12) : AIC = 589.62466846808\n",
      "ARIMA (1, 2, 0) x (0, 1, 2, 12) : AIC = 558.3558066571366\n",
      "ARIMA (1, 2, 0) x (0, 2, 0, 12) : AIC = 1383.3494631592512\n",
      "ARIMA (1, 2, 0) x (0, 2, 1, 12) : AIC = 878.1183122675072\n",
      "ARIMA (1, 2, 0) x (0, 2, 2, 12) : AIC = 643.1027891715369\n",
      "ARIMA (1, 2, 0) x (1, 0, 0, 12) : AIC = 864.1715035794582\n",
      "ARIMA (1, 2, 0) x (1, 0, 1, 12) : AIC = 637.9176265023008\n",
      "ARIMA (1, 2, 0) x (1, 0, 2, 12) : AIC = 566.0495554641327\n",
      "ARIMA (1, 2, 0) x (1, 1, 0, 12) : AIC = 720.657658584711\n",
      "ARIMA (1, 2, 0) x (1, 1, 1, 12) : AIC = 572.1786410653989\n",
      "ARIMA (1, 2, 0) x (1, 1, 2, 12) : AIC = 557.9456226267483\n",
      "ARIMA (1, 2, 0) x (1, 2, 0, 12) : AIC = 1066.4771409786217\n",
      "ARIMA (1, 2, 0) x (1, 2, 1, 12) : AIC = 759.8350895410265\n",
      "ARIMA (1, 2, 0) x (1, 2, 2, 12) : AIC = 622.4671793741848\n",
      "ARIMA (1, 2, 0) x (2, 0, 0, 12) : AIC = 713.8433486338922\n",
      "ARIMA (1, 2, 0) x (2, 0, 1, 12) : AIC = 567.5766431663195\n",
      "ARIMA (1, 2, 0) x (2, 0, 2, 12) : AIC = 565.5650554219877\n",
      "ARIMA (1, 2, 0) x (2, 1, 0, 12) : AIC = 666.3893334150932\n",
      "ARIMA (1, 2, 0) x (2, 1, 1, 12) : AIC = 562.376420327266\n",
      "ARIMA (1, 2, 0) x (2, 1, 2, 12) : AIC = 561.625741925699\n",
      "ARIMA (1, 2, 0) x (2, 2, 0, 12) : AIC = 928.3216195776982\n",
      "ARIMA (1, 2, 0) x (2, 2, 1, 12) : AIC = 707.5874401700837\n",
      "ARIMA (1, 2, 0) x (2, 2, 2, 12) : AIC = 627.4008303531516\n",
      "ARIMA (1, 2, 1) x (0, 0, 0, 12) : AIC = 1370.4967661765932\n",
      "ARIMA (1, 2, 1) x (0, 0, 1, 12) : AIC = 1063.1027805723384\n",
      "ARIMA (1, 2, 1) x (0, 0, 2, 12) : AIC = 929.705531922436\n",
      "ARIMA (1, 2, 1) x (0, 1, 0, 12) : AIC = 600.2205001603049\n",
      "ARIMA (1, 2, 1) x (0, 1, 1, 12) : AIC = 319.37886348582754\n",
      "ARIMA (1, 2, 1) x (0, 1, 2, 12) : AIC = 291.35622858030433\n",
      "ARIMA (1, 2, 1) x (0, 2, 0, 12) : AIC = 1100.9262834398135\n",
      "ARIMA (1, 2, 1) x (0, 2, 1, 12) : AIC = 613.11820823527\n",
      "ARIMA (1, 2, 1) x (0, 2, 2, 12) : AIC = 377.19223040080794\n",
      "ARIMA (1, 2, 1) x (1, 0, 0, 12) : AIC = 601.588831680639\n",
      "ARIMA (1, 2, 1) x (1, 0, 1, 12) : AIC = 356.24069645213126\n",
      "ARIMA (1, 2, 1) x (1, 0, 2, 12) : AIC = 295.3595947152754\n",
      "ARIMA (1, 2, 1) x (1, 1, 0, 12) : AIC = 449.7992558186506\n",
      "ARIMA (1, 2, 1) x (1, 1, 1, 12) : AIC = 303.99053509604994\n",
      "ARIMA (1, 2, 1) x (1, 1, 2, 12) : AIC = 292.2736315756823\n",
      "ARIMA (1, 2, 1) x (1, 2, 0, 12) : AIC = 814.1201705795257\n",
      "ARIMA (1, 2, 1) x (1, 2, 1, 12) : AIC = 499.285230046261\n",
      "ARIMA (1, 2, 1) x (1, 2, 2, 12) : AIC = 362.14427497825704\n",
      "ARIMA (1, 2, 1) x (2, 0, 0, 12) : AIC = 448.3504628399983\n",
      "ARIMA (1, 2, 1) x (2, 0, 1, 12) : AIC = 298.1093012852168\n"
     ]
    },
    {
     "name": "stderr",
     "output_type": "stream",
     "text": [
      "C:\\Users\\kosta\\Anaconda3\\envs\\learn-env\\lib\\site-packages\\statsmodels\\base\\model.py:508: ConvergenceWarning: Maximum Likelihood optimization failed to converge. Check mle_retvals\n",
      "  \"Check mle_retvals\", ConvergenceWarning)\n"
     ]
    },
    {
     "name": "stdout",
     "output_type": "stream",
     "text": [
      "ARIMA (1, 2, 1) x (2, 0, 2, 12) : AIC = 297.1062231680038\n",
      "ARIMA (1, 2, 1) x (2, 1, 0, 12) : AIC = 381.8852761912749\n",
      "ARIMA (1, 2, 1) x (2, 1, 1, 12) : AIC = 300.99640915683574\n",
      "ARIMA (1, 2, 1) x (2, 1, 2, 12) : AIC = 298.187128478667\n",
      "ARIMA (1, 2, 1) x (2, 2, 0, 12) : AIC = 665.2794055176491\n",
      "ARIMA (1, 2, 1) x (2, 2, 1, 12) : AIC = 434.7776501767952\n",
      "ARIMA (1, 2, 1) x (2, 2, 2, 12) : AIC = 384.6616136658267\n",
      "ARIMA (1, 2, 2) x (0, 0, 0, 12) : AIC = 1256.703496891303\n",
      "ARIMA (1, 2, 2) x (0, 0, 1, 12) : AIC = 1052.9120795556396\n",
      "ARIMA (1, 2, 2) x (0, 0, 2, 12) : AIC = 928.6221060717219\n",
      "ARIMA (1, 2, 2) x (0, 1, 0, 12) : AIC = 569.7778080471178\n",
      "ARIMA (1, 2, 2) x (0, 1, 1, 12) : AIC = 299.5159716392916\n",
      "ARIMA (1, 2, 2) x (0, 1, 2, 12) : AIC = 280.76393598385084\n",
      "ARIMA (1, 2, 2) x (0, 2, 0, 12) : AIC = 1080.4628249745465\n",
      "ARIMA (1, 2, 2) x (0, 2, 1, 12) : AIC = 595.3500280657463\n",
      "ARIMA (1, 2, 2) x (0, 2, 2, 12) : AIC = 354.8325610258685\n",
      "ARIMA (1, 2, 2) x (1, 0, 0, 12) : AIC = 586.9085765063157\n"
     ]
    },
    {
     "name": "stderr",
     "output_type": "stream",
     "text": [
      "C:\\Users\\kosta\\Anaconda3\\envs\\learn-env\\lib\\site-packages\\statsmodels\\base\\model.py:508: ConvergenceWarning: Maximum Likelihood optimization failed to converge. Check mle_retvals\n",
      "  \"Check mle_retvals\", ConvergenceWarning)\n"
     ]
    },
    {
     "name": "stdout",
     "output_type": "stream",
     "text": [
      "ARIMA (1, 2, 2) x (1, 0, 1, 12) : AIC = 320.4846613155662\n"
     ]
    },
    {
     "name": "stderr",
     "output_type": "stream",
     "text": [
      "C:\\Users\\kosta\\Anaconda3\\envs\\learn-env\\lib\\site-packages\\statsmodels\\base\\model.py:508: ConvergenceWarning: Maximum Likelihood optimization failed to converge. Check mle_retvals\n",
      "  \"Check mle_retvals\", ConvergenceWarning)\n"
     ]
    },
    {
     "name": "stdout",
     "output_type": "stream",
     "text": [
      "ARIMA (1, 2, 2) x (1, 0, 2, 12) : AIC = 284.84318087449833\n",
      "ARIMA (1, 2, 2) x (1, 1, 0, 12) : AIC = 438.95373840852915\n",
      "ARIMA (1, 2, 2) x (1, 1, 1, 12) : AIC = 286.33632146393535\n"
     ]
    },
    {
     "name": "stderr",
     "output_type": "stream",
     "text": [
      "C:\\Users\\kosta\\Anaconda3\\envs\\learn-env\\lib\\site-packages\\statsmodels\\base\\model.py:508: ConvergenceWarning: Maximum Likelihood optimization failed to converge. Check mle_retvals\n",
      "  \"Check mle_retvals\", ConvergenceWarning)\n"
     ]
    },
    {
     "name": "stdout",
     "output_type": "stream",
     "text": [
      "ARIMA (1, 2, 2) x (1, 1, 2, 12) : AIC = 281.23942145838123\n",
      "ARIMA (1, 2, 2) x (1, 2, 0, 12) : AIC = 808.7812100743406\n",
      "ARIMA (1, 2, 2) x (1, 2, 1, 12) : AIC = 484.876722866348\n"
     ]
    },
    {
     "name": "stderr",
     "output_type": "stream",
     "text": [
      "C:\\Users\\kosta\\Anaconda3\\envs\\learn-env\\lib\\site-packages\\statsmodels\\base\\model.py:508: ConvergenceWarning: Maximum Likelihood optimization failed to converge. Check mle_retvals\n",
      "  \"Check mle_retvals\", ConvergenceWarning)\n"
     ]
    },
    {
     "name": "stdout",
     "output_type": "stream",
     "text": [
      "ARIMA (1, 2, 2) x (1, 2, 2, 12) : AIC = 338.7742821623898\n",
      "ARIMA (1, 2, 2) x (2, 0, 0, 12) : AIC = 443.4461210221676\n"
     ]
    },
    {
     "name": "stderr",
     "output_type": "stream",
     "text": [
      "C:\\Users\\kosta\\Anaconda3\\envs\\learn-env\\lib\\site-packages\\statsmodels\\base\\model.py:508: ConvergenceWarning: Maximum Likelihood optimization failed to converge. Check mle_retvals\n",
      "  \"Check mle_retvals\", ConvergenceWarning)\n"
     ]
    },
    {
     "name": "stdout",
     "output_type": "stream",
     "text": [
      "ARIMA (1, 2, 2) x (2, 0, 1, 12) : AIC = 287.84072863429714\n"
     ]
    },
    {
     "name": "stderr",
     "output_type": "stream",
     "text": [
      "C:\\Users\\kosta\\Anaconda3\\envs\\learn-env\\lib\\site-packages\\statsmodels\\base\\model.py:508: ConvergenceWarning: Maximum Likelihood optimization failed to converge. Check mle_retvals\n",
      "  \"Check mle_retvals\", ConvergenceWarning)\n"
     ]
    },
    {
     "name": "stdout",
     "output_type": "stream",
     "text": [
      "ARIMA (1, 2, 2) x (2, 0, 2, 12) : AIC = 288.9834507300735\n",
      "ARIMA (1, 2, 2) x (2, 1, 0, 12) : AIC = 364.4393576078204\n"
     ]
    },
    {
     "name": "stderr",
     "output_type": "stream",
     "text": [
      "C:\\Users\\kosta\\Anaconda3\\envs\\learn-env\\lib\\site-packages\\statsmodels\\base\\model.py:508: ConvergenceWarning: Maximum Likelihood optimization failed to converge. Check mle_retvals\n",
      "  \"Check mle_retvals\", ConvergenceWarning)\n"
     ]
    },
    {
     "name": "stdout",
     "output_type": "stream",
     "text": [
      "ARIMA (1, 2, 2) x (2, 1, 1, 12) : AIC = 291.48211323789684\n"
     ]
    },
    {
     "name": "stderr",
     "output_type": "stream",
     "text": [
      "C:\\Users\\kosta\\Anaconda3\\envs\\learn-env\\lib\\site-packages\\statsmodels\\base\\model.py:508: ConvergenceWarning: Maximum Likelihood optimization failed to converge. Check mle_retvals\n",
      "  \"Check mle_retvals\", ConvergenceWarning)\n"
     ]
    },
    {
     "name": "stdout",
     "output_type": "stream",
     "text": [
      "ARIMA (1, 2, 2) x (2, 1, 2, 12) : AIC = 299.751074387995\n",
      "ARIMA (1, 2, 2) x (2, 2, 0, 12) : AIC = 653.001593279901\n",
      "ARIMA (1, 2, 2) x (2, 2, 1, 12) : AIC = 417.5769759603421\n",
      "ARIMA (1, 2, 2) x (2, 2, 2, 12) : AIC = 367.2342987790113\n",
      "ARIMA (2, 0, 0) x (0, 0, 0, 12) : AIC = 1325.7204635594803\n",
      "ARIMA (2, 0, 0) x (0, 0, 1, 12) : AIC = 1152.3446995234062\n",
      "ARIMA (2, 0, 0) x (0, 0, 2, 12) : AIC = 1030.0873305383639\n",
      "ARIMA (2, 0, 0) x (0, 1, 0, 12) : AIC = 595.9688070910082\n",
      "ARIMA (2, 0, 0) x (0, 1, 1, 12) : AIC = 316.77937813265555\n",
      "ARIMA (2, 0, 0) x (0, 1, 2, 12) : AIC = 285.1024577063879\n",
      "ARIMA (2, 0, 0) x (0, 2, 0, 12) : AIC = 1049.1933857267372"
     ]
    },
    {
     "name": "stderr",
     "output_type": "stream",
     "text": [
      "C:\\Users\\kosta\\Anaconda3\\envs\\learn-env\\lib\\site-packages\\statsmodels\\base\\model.py:508: ConvergenceWarning: Maximum Likelihood optimization failed to converge. Check mle_retvals\n",
      "  \"Check mle_retvals\", ConvergenceWarning)\n"
     ]
    },
    {
     "name": "stdout",
     "output_type": "stream",
     "text": [
      "\n",
      "ARIMA (2, 0, 0) x (0, 2, 1, 12) : AIC = 575.7933010497904\n",
      "ARIMA (2, 0, 0) x (0, 2, 2, 12) : AIC = 367.4293896434683\n",
      "ARIMA (2, 0, 0) x (1, 0, 0, 12) : AIC = 595.643165486307\n"
     ]
    },
    {
     "name": "stderr",
     "output_type": "stream",
     "text": [
      "C:\\Users\\kosta\\Anaconda3\\envs\\learn-env\\lib\\site-packages\\statsmodels\\base\\model.py:508: ConvergenceWarning: Maximum Likelihood optimization failed to converge. Check mle_retvals\n",
      "  \"Check mle_retvals\", ConvergenceWarning)\n"
     ]
    },
    {
     "name": "stdout",
     "output_type": "stream",
     "text": [
      "ARIMA (2, 0, 0) x (1, 0, 1, 12) : AIC = 344.14477432179837\n"
     ]
    },
    {
     "name": "stderr",
     "output_type": "stream",
     "text": [
      "C:\\Users\\kosta\\Anaconda3\\envs\\learn-env\\lib\\site-packages\\statsmodels\\base\\model.py:508: ConvergenceWarning: Maximum Likelihood optimization failed to converge. Check mle_retvals\n",
      "  \"Check mle_retvals\", ConvergenceWarning)\n"
     ]
    },
    {
     "name": "stdout",
     "output_type": "stream",
     "text": [
      "ARIMA (2, 0, 0) x (1, 0, 2, 12) : AIC = 282.98140677599906\n",
      "ARIMA (2, 0, 0) x (1, 1, 0, 12) : AIC = 439.7211374967153\n",
      "ARIMA (2, 0, 0) x (1, 1, 1, 12) : AIC = 293.8643520495094\n",
      "ARIMA (2, 0, 0) x (1, 1, 2, 12) : AIC = 286.7826588835361\n",
      "ARIMA (2, 0, 0) x (1, 2, 0, 12) : AIC = 771.8822570827351\n",
      "ARIMA (2, 0, 0) x (1, 2, 1, 12) : AIC = 467.234917856353\n",
      "ARIMA (2, 0, 0) x (1, 2, 2, 12) : AIC = 350.38615576183435\n"
     ]
    },
    {
     "name": "stderr",
     "output_type": "stream",
     "text": [
      "C:\\Users\\kosta\\Anaconda3\\envs\\learn-env\\lib\\site-packages\\statsmodels\\base\\model.py:508: ConvergenceWarning: Maximum Likelihood optimization failed to converge. Check mle_retvals\n",
      "  \"Check mle_retvals\", ConvergenceWarning)\n"
     ]
    },
    {
     "name": "stdout",
     "output_type": "stream",
     "text": [
      "ARIMA (2, 0, 0) x (2, 0, 0, 12) : AIC = 422.1690559789437\n"
     ]
    },
    {
     "name": "stderr",
     "output_type": "stream",
     "text": [
      "C:\\Users\\kosta\\Anaconda3\\envs\\learn-env\\lib\\site-packages\\statsmodels\\base\\model.py:508: ConvergenceWarning: Maximum Likelihood optimization failed to converge. Check mle_retvals\n",
      "  \"Check mle_retvals\", ConvergenceWarning)\n"
     ]
    },
    {
     "name": "stdout",
     "output_type": "stream",
     "text": [
      "ARIMA (2, 0, 0) x (2, 0, 1, 12) : AIC = 293.33938770167214\n"
     ]
    },
    {
     "name": "stderr",
     "output_type": "stream",
     "text": [
      "C:\\Users\\kosta\\Anaconda3\\envs\\learn-env\\lib\\site-packages\\statsmodels\\base\\model.py:508: ConvergenceWarning: Maximum Likelihood optimization failed to converge. Check mle_retvals\n",
      "  \"Check mle_retvals\", ConvergenceWarning)\n"
     ]
    },
    {
     "name": "stdout",
     "output_type": "stream",
     "text": [
      "ARIMA (2, 0, 0) x (2, 0, 2, 12) : AIC = 284.18675955954177\n",
      "ARIMA (2, 0, 0) x (2, 1, 0, 12) : AIC = 375.93369754172375\n",
      "ARIMA (2, 0, 0) x (2, 1, 1, 12) : AIC = 291.20445983381967\n",
      "ARIMA (2, 0, 0) x (2, 1, 2, 12) : AIC = 287.93500685215525\n",
      "ARIMA (2, 0, 0) x (2, 2, 0, 12) : AIC = 629.0748748370906\n",
      "ARIMA (2, 0, 0) x (2, 2, 1, 12) : AIC = 411.21223045199906\n"
     ]
    },
    {
     "name": "stderr",
     "output_type": "stream",
     "text": [
      "C:\\Users\\kosta\\Anaconda3\\envs\\learn-env\\lib\\site-packages\\statsmodels\\base\\model.py:508: ConvergenceWarning: Maximum Likelihood optimization failed to converge. Check mle_retvals\n",
      "  \"Check mle_retvals\", ConvergenceWarning)\n"
     ]
    },
    {
     "name": "stdout",
     "output_type": "stream",
     "text": [
      "ARIMA (2, 0, 0) x (2, 2, 2, 12) : AIC = 346.3130726707953\n",
      "ARIMA (2, 0, 1) x (0, 0, 0, 12) : AIC = 1265.556037735661\n"
     ]
    },
    {
     "name": "stderr",
     "output_type": "stream",
     "text": [
      "C:\\Users\\kosta\\Anaconda3\\envs\\learn-env\\lib\\site-packages\\statsmodels\\base\\model.py:508: ConvergenceWarning: Maximum Likelihood optimization failed to converge. Check mle_retvals\n",
      "  \"Check mle_retvals\", ConvergenceWarning)\n"
     ]
    },
    {
     "name": "stdout",
     "output_type": "stream",
     "text": [
      "ARIMA (2, 0, 1) x (0, 0, 1, 12) : AIC = 1091.6595076521858\n",
      "ARIMA (2, 0, 1) x (0, 0, 2, 12) : AIC = 1029.697207381122\n",
      "ARIMA (2, 0, 1) x (0, 1, 0, 12) : AIC = 581.3805398516471\n"
     ]
    },
    {
     "name": "stderr",
     "output_type": "stream",
     "text": [
      "C:\\Users\\kosta\\Anaconda3\\envs\\learn-env\\lib\\site-packages\\statsmodels\\base\\model.py:508: ConvergenceWarning: Maximum Likelihood optimization failed to converge. Check mle_retvals\n",
      "  \"Check mle_retvals\", ConvergenceWarning)\n"
     ]
    },
    {
     "name": "stdout",
     "output_type": "stream",
     "text": [
      "ARIMA (2, 0, 1) x (0, 1, 1, 12) : AIC = 297.63076834093124\n",
      "ARIMA (2, 0, 1) x (0, 1, 2, 12) : AIC = 272.5056230526905\n",
      "ARIMA (2, 0, 1) x (0, 2, 0, 12) : AIC = 1050.4688988442517\n",
      "ARIMA (2, 0, 1) x (0, 2, 1, 12) : AIC = 570.7268402465043\n",
      "ARIMA (2, 0, 1) x (0, 2, 2, 12) : AIC = 349.5643205301641\n",
      "ARIMA (2, 0, 1) x (1, 0, 0, 12) : AIC = 578.7673698413993\n",
      "ARIMA (2, 0, 1) x (1, 0, 1, 12) : AIC = 330.8760529699794\n"
     ]
    },
    {
     "name": "stderr",
     "output_type": "stream",
     "text": [
      "C:\\Users\\kosta\\Anaconda3\\envs\\learn-env\\lib\\site-packages\\statsmodels\\base\\model.py:508: ConvergenceWarning: Maximum Likelihood optimization failed to converge. Check mle_retvals\n",
      "  \"Check mle_retvals\", ConvergenceWarning)\n"
     ]
    },
    {
     "name": "stdout",
     "output_type": "stream",
     "text": [
      "ARIMA (2, 0, 1) x (1, 0, 2, 12) : AIC = 271.9606088102587\n",
      "ARIMA (2, 0, 1) x (1, 1, 0, 12) : AIC = 429.47989298354724\n"
     ]
    },
    {
     "name": "stderr",
     "output_type": "stream",
     "text": [
      "C:\\Users\\kosta\\Anaconda3\\envs\\learn-env\\lib\\site-packages\\statsmodels\\base\\model.py:508: ConvergenceWarning: Maximum Likelihood optimization failed to converge. Check mle_retvals\n",
      "  \"Check mle_retvals\", ConvergenceWarning)\n"
     ]
    },
    {
     "name": "stdout",
     "output_type": "stream",
     "text": [
      "ARIMA (2, 0, 1) x (1, 1, 1, 12) : AIC = 280.67614474922345\n"
     ]
    },
    {
     "name": "stderr",
     "output_type": "stream",
     "text": [
      "C:\\Users\\kosta\\Anaconda3\\envs\\learn-env\\lib\\site-packages\\statsmodels\\base\\model.py:508: ConvergenceWarning: Maximum Likelihood optimization failed to converge. Check mle_retvals\n",
      "  \"Check mle_retvals\", ConvergenceWarning)\n"
     ]
    },
    {
     "name": "stdout",
     "output_type": "stream",
     "text": [
      "ARIMA (2, 0, 1) x (1, 1, 2, 12) : AIC = 273.49919916752583\n",
      "ARIMA (2, 0, 1) x (1, 2, 0, 12) : AIC = 773.4685228622675\n",
      "ARIMA (2, 0, 1) x (1, 2, 1, 12) : AIC = 464.5225651201765\n"
     ]
    },
    {
     "name": "stderr",
     "output_type": "stream",
     "text": [
      "C:\\Users\\kosta\\Anaconda3\\envs\\learn-env\\lib\\site-packages\\statsmodels\\base\\model.py:508: ConvergenceWarning: Maximum Likelihood optimization failed to converge. Check mle_retvals\n",
      "  \"Check mle_retvals\", ConvergenceWarning)\n"
     ]
    },
    {
     "name": "stdout",
     "output_type": "stream",
     "text": [
      "ARIMA (2, 0, 1) x (1, 2, 2, 12) : AIC = 330.97051824712577\n",
      "ARIMA (2, 0, 1) x (2, 0, 0, 12) : AIC = 418.9573084563062\n"
     ]
    },
    {
     "name": "stderr",
     "output_type": "stream",
     "text": [
      "C:\\Users\\kosta\\Anaconda3\\envs\\learn-env\\lib\\site-packages\\statsmodels\\base\\model.py:508: ConvergenceWarning: Maximum Likelihood optimization failed to converge. Check mle_retvals\n",
      "  \"Check mle_retvals\", ConvergenceWarning)\n"
     ]
    },
    {
     "name": "stdout",
     "output_type": "stream",
     "text": [
      "ARIMA (2, 0, 1) x (2, 0, 1, 12) : AIC = 274.3341908221889\n"
     ]
    },
    {
     "name": "stderr",
     "output_type": "stream",
     "text": [
      "C:\\Users\\kosta\\Anaconda3\\envs\\learn-env\\lib\\site-packages\\statsmodels\\base\\model.py:508: ConvergenceWarning: Maximum Likelihood optimization failed to converge. Check mle_retvals\n",
      "  \"Check mle_retvals\", ConvergenceWarning)\n"
     ]
    },
    {
     "name": "stdout",
     "output_type": "stream",
     "text": [
      "ARIMA (2, 0, 1) x (2, 0, 2, 12) : AIC = 275.40017003733635\n",
      "ARIMA (2, 0, 1) x (2, 1, 0, 12) : AIC = 358.4726917244128\n"
     ]
    },
    {
     "name": "stderr",
     "output_type": "stream",
     "text": [
      "C:\\Users\\kosta\\Anaconda3\\envs\\learn-env\\lib\\site-packages\\statsmodels\\base\\model.py:508: ConvergenceWarning: Maximum Likelihood optimization failed to converge. Check mle_retvals\n",
      "  \"Check mle_retvals\", ConvergenceWarning)\n"
     ]
    },
    {
     "name": "stdout",
     "output_type": "stream",
     "text": [
      "ARIMA (2, 0, 1) x (2, 1, 1, 12) : AIC = 278.8730942728349\n"
     ]
    },
    {
     "name": "stderr",
     "output_type": "stream",
     "text": [
      "C:\\Users\\kosta\\Anaconda3\\envs\\learn-env\\lib\\site-packages\\statsmodels\\base\\model.py:508: ConvergenceWarning: Maximum Likelihood optimization failed to converge. Check mle_retvals\n",
      "  \"Check mle_retvals\", ConvergenceWarning)\n"
     ]
    },
    {
     "name": "stdout",
     "output_type": "stream",
     "text": [
      "ARIMA (2, 0, 1) x (2, 1, 2, 12) : AIC = 276.5029122501071\n",
      "ARIMA (2, 0, 1) x (2, 2, 0, 12) : AIC = 627.7327736421579\n",
      "ARIMA (2, 0, 1) x (2, 2, 1, 12) : AIC = 400.200153817314\n"
     ]
    },
    {
     "name": "stderr",
     "output_type": "stream",
     "text": [
      "C:\\Users\\kosta\\Anaconda3\\envs\\learn-env\\lib\\site-packages\\statsmodels\\base\\model.py:508: ConvergenceWarning: Maximum Likelihood optimization failed to converge. Check mle_retvals\n",
      "  \"Check mle_retvals\", ConvergenceWarning)\n"
     ]
    },
    {
     "name": "stdout",
     "output_type": "stream",
     "text": [
      "ARIMA (2, 0, 1) x (2, 2, 2, 12) : AIC = 354.15028932183156\n"
     ]
    },
    {
     "name": "stderr",
     "output_type": "stream",
     "text": [
      "C:\\Users\\kosta\\Anaconda3\\envs\\learn-env\\lib\\site-packages\\statsmodels\\base\\model.py:508: ConvergenceWarning: Maximum Likelihood optimization failed to converge. Check mle_retvals\n",
      "  \"Check mle_retvals\", ConvergenceWarning)\n"
     ]
    },
    {
     "name": "stdout",
     "output_type": "stream",
     "text": [
      "ARIMA (2, 0, 2) x (0, 0, 0, 12) : AIC = 1217.8923558329623\n"
     ]
    },
    {
     "name": "stderr",
     "output_type": "stream",
     "text": [
      "C:\\Users\\kosta\\Anaconda3\\envs\\learn-env\\lib\\site-packages\\statsmodels\\base\\model.py:508: ConvergenceWarning: Maximum Likelihood optimization failed to converge. Check mle_retvals\n",
      "  \"Check mle_retvals\", ConvergenceWarning)\n"
     ]
    },
    {
     "name": "stdout",
     "output_type": "stream",
     "text": [
      "ARIMA (2, 0, 2) x (0, 0, 1, 12) : AIC = 1071.0173449854567\n",
      "ARIMA (2, 0, 2) x (0, 0, 2, 12) : AIC = 996.6207220104693\n",
      "ARIMA (2, 0, 2) x (0, 1, 0, 12) : AIC = 582.4294129648583\n"
     ]
    },
    {
     "name": "stderr",
     "output_type": "stream",
     "text": [
      "C:\\Users\\kosta\\Anaconda3\\envs\\learn-env\\lib\\site-packages\\statsmodels\\base\\model.py:508: ConvergenceWarning: Maximum Likelihood optimization failed to converge. Check mle_retvals\n",
      "  \"Check mle_retvals\", ConvergenceWarning)\n"
     ]
    },
    {
     "name": "stdout",
     "output_type": "stream",
     "text": [
      "ARIMA (2, 0, 2) x (0, 1, 1, 12) : AIC = 298.77003727689254\n"
     ]
    },
    {
     "name": "stderr",
     "output_type": "stream",
     "text": [
      "C:\\Users\\kosta\\Anaconda3\\envs\\learn-env\\lib\\site-packages\\statsmodels\\base\\model.py:508: ConvergenceWarning: Maximum Likelihood optimization failed to converge. Check mle_retvals\n",
      "  \"Check mle_retvals\", ConvergenceWarning)\n"
     ]
    },
    {
     "name": "stdout",
     "output_type": "stream",
     "text": [
      "ARIMA (2, 0, 2) x (0, 1, 2, 12) : AIC = 273.66405029795897\n",
      "ARIMA (2, 0, 2) x (0, 2, 0, 12) : AIC = 1051.4785912869686\n",
      "ARIMA (2, 0, 2) x (0, 2, 1, 12) : AIC = 571.8791863981221\n"
     ]
    },
    {
     "name": "stderr",
     "output_type": "stream",
     "text": [
      "C:\\Users\\kosta\\Anaconda3\\envs\\learn-env\\lib\\site-packages\\statsmodels\\base\\model.py:508: ConvergenceWarning: Maximum Likelihood optimization failed to converge. Check mle_retvals\n",
      "  \"Check mle_retvals\", ConvergenceWarning)\n"
     ]
    },
    {
     "name": "stdout",
     "output_type": "stream",
     "text": [
      "ARIMA (2, 0, 2) x (0, 2, 2, 12) : AIC = 349.31853941206083\n"
     ]
    },
    {
     "name": "stderr",
     "output_type": "stream",
     "text": [
      "C:\\Users\\kosta\\Anaconda3\\envs\\learn-env\\lib\\site-packages\\statsmodels\\base\\model.py:508: ConvergenceWarning: Maximum Likelihood optimization failed to converge. Check mle_retvals\n",
      "  \"Check mle_retvals\", ConvergenceWarning)\n"
     ]
    },
    {
     "name": "stdout",
     "output_type": "stream",
     "text": [
      "ARIMA (2, 0, 2) x (1, 0, 0, 12) : AIC = 580.6621500795146\n"
     ]
    },
    {
     "name": "stderr",
     "output_type": "stream",
     "text": [
      "C:\\Users\\kosta\\Anaconda3\\envs\\learn-env\\lib\\site-packages\\statsmodels\\base\\model.py:508: ConvergenceWarning: Maximum Likelihood optimization failed to converge. Check mle_retvals\n",
      "  \"Check mle_retvals\", ConvergenceWarning)\n"
     ]
    },
    {
     "name": "stdout",
     "output_type": "stream",
     "text": [
      "ARIMA (2, 0, 2) x (1, 0, 1, 12) : AIC = 327.15574438544184\n"
     ]
    },
    {
     "name": "stderr",
     "output_type": "stream",
     "text": [
      "C:\\Users\\kosta\\Anaconda3\\envs\\learn-env\\lib\\site-packages\\statsmodels\\base\\model.py:508: ConvergenceWarning: Maximum Likelihood optimization failed to converge. Check mle_retvals\n",
      "  \"Check mle_retvals\", ConvergenceWarning)\n"
     ]
    },
    {
     "name": "stdout",
     "output_type": "stream",
     "text": [
      "ARIMA (2, 0, 2) x (1, 0, 2, 12) : AIC = 276.23082099884346\n",
      "ARIMA (2, 0, 2) x (1, 1, 0, 12) : AIC = 431.21610222146046\n",
      "ARIMA (2, 0, 2) x (1, 1, 1, 12) : AIC = 281.10476820849703\n"
     ]
    },
    {
     "name": "stderr",
     "output_type": "stream",
     "text": [
      "C:\\Users\\kosta\\Anaconda3\\envs\\learn-env\\lib\\site-packages\\statsmodels\\base\\model.py:508: ConvergenceWarning: Maximum Likelihood optimization failed to converge. Check mle_retvals\n",
      "  \"Check mle_retvals\", ConvergenceWarning)\n"
     ]
    },
    {
     "name": "stdout",
     "output_type": "stream",
     "text": [
      "ARIMA (2, 0, 2) x (1, 1, 2, 12) : AIC = 275.90496807488574\n",
      "ARIMA (2, 0, 2) x (1, 2, 0, 12) : AIC = 774.4008731296159\n",
      "ARIMA (2, 0, 2) x (1, 2, 1, 12) : AIC = 465.519474177509\n"
     ]
    },
    {
     "name": "stderr",
     "output_type": "stream",
     "text": [
      "C:\\Users\\kosta\\Anaconda3\\envs\\learn-env\\lib\\site-packages\\statsmodels\\base\\model.py:508: ConvergenceWarning: Maximum Likelihood optimization failed to converge. Check mle_retvals\n",
      "  \"Check mle_retvals\", ConvergenceWarning)\n"
     ]
    },
    {
     "name": "stdout",
     "output_type": "stream",
     "text": [
      "ARIMA (2, 0, 2) x (1, 2, 2, 12) : AIC = 334.64150951475125\n"
     ]
    },
    {
     "name": "stderr",
     "output_type": "stream",
     "text": [
      "C:\\Users\\kosta\\Anaconda3\\envs\\learn-env\\lib\\site-packages\\statsmodels\\base\\model.py:508: ConvergenceWarning: Maximum Likelihood optimization failed to converge. Check mle_retvals\n",
      "  \"Check mle_retvals\", ConvergenceWarning)\n"
     ]
    },
    {
     "name": "stdout",
     "output_type": "stream",
     "text": [
      "ARIMA (2, 0, 2) x (2, 0, 0, 12) : AIC = 420.94929095896094\n"
     ]
    },
    {
     "name": "stderr",
     "output_type": "stream",
     "text": [
      "C:\\Users\\kosta\\Anaconda3\\envs\\learn-env\\lib\\site-packages\\statsmodels\\base\\model.py:508: ConvergenceWarning: Maximum Likelihood optimization failed to converge. Check mle_retvals\n",
      "  \"Check mle_retvals\", ConvergenceWarning)\n"
     ]
    },
    {
     "name": "stdout",
     "output_type": "stream",
     "text": [
      "ARIMA (2, 0, 2) x (2, 0, 1, 12) : AIC = 285.56473938539045\n"
     ]
    },
    {
     "name": "stderr",
     "output_type": "stream",
     "text": [
      "C:\\Users\\kosta\\Anaconda3\\envs\\learn-env\\lib\\site-packages\\statsmodels\\base\\model.py:508: ConvergenceWarning: Maximum Likelihood optimization failed to converge. Check mle_retvals\n",
      "  \"Check mle_retvals\", ConvergenceWarning)\n"
     ]
    },
    {
     "name": "stdout",
     "output_type": "stream",
     "text": [
      "ARIMA (2, 0, 2) x (2, 0, 2, 12) : AIC = 274.11313661286533\n",
      "ARIMA (2, 0, 2) x (2, 1, 0, 12) : AIC = 360.45707167092394\n"
     ]
    },
    {
     "name": "stderr",
     "output_type": "stream",
     "text": [
      "C:\\Users\\kosta\\Anaconda3\\envs\\learn-env\\lib\\site-packages\\statsmodels\\base\\model.py:508: ConvergenceWarning: Maximum Likelihood optimization failed to converge. Check mle_retvals\n",
      "  \"Check mle_retvals\", ConvergenceWarning)\n"
     ]
    },
    {
     "name": "stdout",
     "output_type": "stream",
     "text": [
      "ARIMA (2, 0, 2) x (2, 1, 1, 12) : AIC = 279.1826959585168\n"
     ]
    },
    {
     "name": "stderr",
     "output_type": "stream",
     "text": [
      "C:\\Users\\kosta\\Anaconda3\\envs\\learn-env\\lib\\site-packages\\statsmodels\\base\\model.py:508: ConvergenceWarning: Maximum Likelihood optimization failed to converge. Check mle_retvals\n",
      "  \"Check mle_retvals\", ConvergenceWarning)\n"
     ]
    },
    {
     "name": "stdout",
     "output_type": "stream",
     "text": [
      "ARIMA (2, 0, 2) x (2, 1, 2, 12) : AIC = 278.39476577911665\n",
      "ARIMA (2, 0, 2) x (2, 2, 0, 12) : AIC = 629.7327669515862\n",
      "ARIMA (2, 0, 2) x (2, 2, 1, 12) : AIC = 402.16462338201427\n"
     ]
    },
    {
     "name": "stderr",
     "output_type": "stream",
     "text": [
      "C:\\Users\\kosta\\Anaconda3\\envs\\learn-env\\lib\\site-packages\\statsmodels\\base\\model.py:508: ConvergenceWarning: Maximum Likelihood optimization failed to converge. Check mle_retvals\n",
      "  \"Check mle_retvals\", ConvergenceWarning)\n"
     ]
    },
    {
     "name": "stdout",
     "output_type": "stream",
     "text": [
      "ARIMA (2, 0, 2) x (2, 2, 2, 12) : AIC = 357.4433678602264\n",
      "ARIMA (2, 1, 0) x (0, 0, 0, 12) : AIC = 1200.4845658281201\n",
      "ARIMA (2, 1, 0) x (0, 0, 1, 12) : AIC = 1036.8459540502793\n",
      "ARIMA (2, 1, 0) x (0, 0, 2, 12) : AIC = 929.9461779418855\n",
      "ARIMA (2, 1, 0) x (0, 1, 0, 12) : AIC = 594.3524956791007\n",
      "ARIMA (2, 1, 0) x (0, 1, 1, 12) : AIC = 308.60096341873134\n",
      "ARIMA (2, 1, 0) x (0, 1, 2, 12) : AIC = 279.3132258422182\n",
      "ARIMA (2, 1, 0) x (0, 2, 0, 12) : AIC = 1094.2316445889303\n",
      "ARIMA (2, 1, 0) x (0, 2, 1, 12) : AIC = 600.2273161771977\n",
      "ARIMA (2, 1, 0) x (0, 2, 2, 12) : AIC = 362.6833184035149\n",
      "ARIMA (2, 1, 0) x (1, 0, 0, 12) : AIC = 588.7330520213541\n",
      "ARIMA (2, 1, 0) x (1, 0, 1, 12) : AIC = 343.2979046793822\n",
      "ARIMA (2, 1, 0) x (1, 0, 2, 12) : AIC = 280.3346549744794\n",
      "ARIMA (2, 1, 0) x (1, 1, 0, 12) : AIC = 436.0554603912553\n",
      "ARIMA (2, 1, 0) x (1, 1, 1, 12) : AIC = 288.96467849537214\n",
      "ARIMA (2, 1, 0) x (1, 1, 2, 12) : AIC = 281.65250453013937\n",
      "ARIMA (2, 1, 0) x (1, 2, 0, 12) : AIC = 805.2321438353611\n",
      "ARIMA (2, 1, 0) x (1, 2, 1, 12) : AIC = 482.5685807873979\n",
      "ARIMA (2, 1, 0) x (1, 2, 2, 12) : AIC = 345.70261451504336\n"
     ]
    },
    {
     "name": "stderr",
     "output_type": "stream",
     "text": [
      "C:\\Users\\kosta\\Anaconda3\\envs\\learn-env\\lib\\site-packages\\statsmodels\\base\\model.py:508: ConvergenceWarning: Maximum Likelihood optimization failed to converge. Check mle_retvals\n",
      "  \"Check mle_retvals\", ConvergenceWarning)\n"
     ]
    },
    {
     "name": "stdout",
     "output_type": "stream",
     "text": [
      "ARIMA (2, 1, 0) x (2, 0, 0, 12) : AIC = 436.2721131575088\n",
      "ARIMA (2, 1, 0) x (2, 0, 1, 12) : AIC = 282.591696520985\n"
     ]
    },
    {
     "name": "stderr",
     "output_type": "stream",
     "text": [
      "C:\\Users\\kosta\\Anaconda3\\envs\\learn-env\\lib\\site-packages\\statsmodels\\base\\model.py:508: ConvergenceWarning: Maximum Likelihood optimization failed to converge. Check mle_retvals\n",
      "  \"Check mle_retvals\", ConvergenceWarning)\n"
     ]
    },
    {
     "name": "stdout",
     "output_type": "stream",
     "text": [
      "ARIMA (2, 1, 0) x (2, 0, 2, 12) : AIC = 288.0961146666\n",
      "ARIMA (2, 1, 0) x (2, 1, 0, 12) : AIC = 365.4252480647822\n",
      "ARIMA (2, 1, 0) x (2, 1, 1, 12) : AIC = 285.1376938836641\n",
      "ARIMA (2, 1, 0) x (2, 1, 2, 12) : AIC = 284.1212539227687\n",
      "ARIMA (2, 1, 0) x (2, 2, 0, 12) : AIC = 649.1840497875842\n",
      "ARIMA (2, 1, 0) x (2, 2, 1, 12) : AIC = 410.8855369337903\n",
      "ARIMA (2, 1, 0) x (2, 2, 2, 12) : AIC = 362.8468398551891\n",
      "ARIMA (2, 1, 1) x (0, 0, 0, 12) : AIC = 1071.3217502307416\n",
      "ARIMA (2, 1, 1) x (0, 0, 1, 12) : AIC = 910.7615801651599\n",
      "ARIMA (2, 1, 1) x (0, 0, 2, 12) : AIC = 836.3080664363201\n",
      "ARIMA (2, 1, 1) x (0, 1, 0, 12) : AIC = 569.14914599994\n",
      "ARIMA (2, 1, 1) x (0, 1, 1, 12) : AIC = 298.35998383693374\n",
      "ARIMA (2, 1, 1) x (0, 1, 2, 12) : AIC = 273.7315380406409\n",
      "ARIMA (2, 1, 1) x (0, 2, 0, 12) : AIC = 1056.2459267733384\n",
      "ARIMA (2, 1, 1) x (0, 2, 1, 12) : AIC = 575.6750880990103\n",
      "ARIMA (2, 1, 1) x (0, 2, 2, 12) : AIC = 348.39101494524834\n",
      "ARIMA (2, 1, 1) x (1, 0, 0, 12) : AIC = 568.6802804922323\n",
      "ARIMA (2, 1, 1) x (1, 0, 1, 12) : AIC = 329.8927042309725\n",
      "ARIMA (2, 1, 1) x (1, 0, 2, 12) : AIC = 276.74336350255595\n",
      "ARIMA (2, 1, 1) x (1, 1, 0, 12) : AIC = 426.1422065075797\n",
      "ARIMA (2, 1, 1) x (1, 1, 1, 12) : AIC = 281.63283639711426\n",
      "ARIMA (2, 1, 1) x (1, 1, 2, 12) : AIC = 273.49568069291\n",
      "ARIMA (2, 1, 1) x (1, 2, 0, 12) : AIC = 780.3423097609652\n",
      "ARIMA (2, 1, 1) x (1, 2, 1, 12) : AIC = 475.36648044510105\n"
     ]
    },
    {
     "name": "stderr",
     "output_type": "stream",
     "text": [
      "C:\\Users\\kosta\\Anaconda3\\envs\\learn-env\\lib\\site-packages\\statsmodels\\base\\model.py:508: ConvergenceWarning: Maximum Likelihood optimization failed to converge. Check mle_retvals\n",
      "  \"Check mle_retvals\", ConvergenceWarning)\n"
     ]
    },
    {
     "name": "stdout",
     "output_type": "stream",
     "text": [
      "ARIMA (2, 1, 1) x (1, 2, 2, 12) : AIC = 329.0902098991304\n",
      "ARIMA (2, 1, 1) x (2, 0, 0, 12) : AIC = 426.11695071446087\n",
      "ARIMA (2, 1, 1) x (2, 0, 1, 12) : AIC = 277.3737782983416\n"
     ]
    },
    {
     "name": "stderr",
     "output_type": "stream",
     "text": [
      "C:\\Users\\kosta\\Anaconda3\\envs\\learn-env\\lib\\site-packages\\statsmodels\\base\\model.py:508: ConvergenceWarning: Maximum Likelihood optimization failed to converge. Check mle_retvals\n",
      "  \"Check mle_retvals\", ConvergenceWarning)\n"
     ]
    },
    {
     "name": "stdout",
     "output_type": "stream",
     "text": [
      "ARIMA (2, 1, 1) x (2, 0, 2, 12) : AIC = 278.9583168042565\n",
      "ARIMA (2, 1, 1) x (2, 1, 0, 12) : AIC = 363.6170954879369\n",
      "ARIMA (2, 1, 1) x (2, 1, 1, 12) : AIC = 278.58925096889584\n"
     ]
    },
    {
     "name": "stderr",
     "output_type": "stream",
     "text": [
      "C:\\Users\\kosta\\Anaconda3\\envs\\learn-env\\lib\\site-packages\\statsmodels\\base\\model.py:508: ConvergenceWarning: Maximum Likelihood optimization failed to converge. Check mle_retvals\n",
      "  \"Check mle_retvals\", ConvergenceWarning)\n"
     ]
    },
    {
     "name": "stdout",
     "output_type": "stream",
     "text": [
      "ARIMA (2, 1, 1) x (2, 1, 2, 12) : AIC = 275.5106184390971\n",
      "ARIMA (2, 1, 1) x (2, 2, 0, 12) : AIC = 635.3466402567744\n",
      "ARIMA (2, 1, 1) x (2, 2, 1, 12) : AIC = 403.4945281713162\n"
     ]
    },
    {
     "name": "stderr",
     "output_type": "stream",
     "text": [
      "C:\\Users\\kosta\\Anaconda3\\envs\\learn-env\\lib\\site-packages\\statsmodels\\base\\model.py:508: ConvergenceWarning: Maximum Likelihood optimization failed to converge. Check mle_retvals\n",
      "  \"Check mle_retvals\", ConvergenceWarning)\n"
     ]
    },
    {
     "name": "stdout",
     "output_type": "stream",
     "text": [
      "ARIMA (2, 1, 1) x (2, 2, 2, 12) : AIC = 338.4989306127689\n",
      "ARIMA (2, 1, 2) x (0, 0, 0, 12) : AIC = 1068.543608532514\n",
      "ARIMA (2, 1, 2) x (0, 0, 1, 12) : AIC = 760.3545311798009\n",
      "ARIMA (2, 1, 2) x (0, 0, 2, 12) : AIC = 657.2848510515473\n",
      "ARIMA (2, 1, 2) x (0, 1, 0, 12) : AIC = 570.068023287248\n",
      "ARIMA (2, 1, 2) x (0, 1, 1, 12) : AIC = 295.7065765400366\n",
      "ARIMA (2, 1, 2) x (0, 1, 2, 12) : AIC = 274.57603562894053\n",
      "ARIMA (2, 1, 2) x (0, 2, 0, 12) : AIC = 1079.7554721428446\n",
      "ARIMA (2, 1, 2) x (0, 2, 1, 12) : AIC = 586.1142160516347\n",
      "ARIMA (2, 1, 2) x (0, 2, 2, 12) : AIC = 348.9057299684497\n",
      "ARIMA (2, 1, 2) x (1, 0, 0, 12) : AIC = 569.7662585325612\n"
     ]
    },
    {
     "name": "stderr",
     "output_type": "stream",
     "text": [
      "C:\\Users\\kosta\\Anaconda3\\envs\\learn-env\\lib\\site-packages\\statsmodels\\base\\model.py:508: ConvergenceWarning: Maximum Likelihood optimization failed to converge. Check mle_retvals\n",
      "  \"Check mle_retvals\", ConvergenceWarning)\n"
     ]
    },
    {
     "name": "stdout",
     "output_type": "stream",
     "text": [
      "ARIMA (2, 1, 2) x (1, 0, 1, 12) : AIC = 329.6189053875415\n"
     ]
    },
    {
     "name": "stderr",
     "output_type": "stream",
     "text": [
      "C:\\Users\\kosta\\Anaconda3\\envs\\learn-env\\lib\\site-packages\\statsmodels\\base\\model.py:508: ConvergenceWarning: Maximum Likelihood optimization failed to converge. Check mle_retvals\n",
      "  \"Check mle_retvals\", ConvergenceWarning)\n"
     ]
    },
    {
     "name": "stdout",
     "output_type": "stream",
     "text": [
      "ARIMA (2, 1, 2) x (1, 0, 2, 12) : AIC = 279.33446165747256\n",
      "ARIMA (2, 1, 2) x (1, 1, 0, 12) : AIC = 428.75970177783626\n",
      "ARIMA (2, 1, 2) x (1, 1, 1, 12) : AIC = 281.47505416021534\n",
      "ARIMA (2, 1, 2) x (1, 1, 2, 12) : AIC = 275.3028390316116\n",
      "ARIMA (2, 1, 2) x (1, 2, 0, 12) : AIC = 798.6924832486108\n",
      "ARIMA (2, 1, 2) x (1, 2, 1, 12) : AIC = 472.47018679694094\n"
     ]
    },
    {
     "name": "stderr",
     "output_type": "stream",
     "text": [
      "C:\\Users\\kosta\\Anaconda3\\envs\\learn-env\\lib\\site-packages\\statsmodels\\base\\model.py:508: ConvergenceWarning: Maximum Likelihood optimization failed to converge. Check mle_retvals\n",
      "  \"Check mle_retvals\", ConvergenceWarning)\n"
     ]
    },
    {
     "name": "stdout",
     "output_type": "stream",
     "text": [
      "ARIMA (2, 1, 2) x (1, 2, 2, 12) : AIC = 330.99879420803273\n",
      "ARIMA (2, 1, 2) x (2, 0, 0, 12) : AIC = 423.6297001658197\n"
     ]
    },
    {
     "name": "stderr",
     "output_type": "stream",
     "text": [
      "C:\\Users\\kosta\\Anaconda3\\envs\\learn-env\\lib\\site-packages\\statsmodels\\base\\model.py:508: ConvergenceWarning: Maximum Likelihood optimization failed to converge. Check mle_retvals\n",
      "  \"Check mle_retvals\", ConvergenceWarning)\n"
     ]
    },
    {
     "name": "stdout",
     "output_type": "stream",
     "text": [
      "ARIMA (2, 1, 2) x (2, 0, 1, 12) : AIC = 279.5923102598237\n"
     ]
    },
    {
     "name": "stderr",
     "output_type": "stream",
     "text": [
      "C:\\Users\\kosta\\Anaconda3\\envs\\learn-env\\lib\\site-packages\\statsmodels\\base\\model.py:508: ConvergenceWarning: Maximum Likelihood optimization failed to converge. Check mle_retvals\n",
      "  \"Check mle_retvals\", ConvergenceWarning)\n"
     ]
    },
    {
     "name": "stdout",
     "output_type": "stream",
     "text": [
      "ARIMA (2, 1, 2) x (2, 0, 2, 12) : AIC = 278.7842346114545\n",
      "ARIMA (2, 1, 2) x (2, 1, 0, 12) : AIC = 359.7179256837436\n",
      "ARIMA (2, 1, 2) x (2, 1, 1, 12) : AIC = 280.26814136735914\n",
      "ARIMA (2, 1, 2) x (2, 1, 2, 12) : AIC = 278.86967997467366\n",
      "ARIMA (2, 1, 2) x (2, 2, 0, 12) : AIC = 643.1699442203713\n",
      "ARIMA (2, 1, 2) x (2, 2, 1, 12) : AIC = 405.2740083585171\n"
     ]
    },
    {
     "name": "stderr",
     "output_type": "stream",
     "text": [
      "C:\\Users\\kosta\\Anaconda3\\envs\\learn-env\\lib\\site-packages\\statsmodels\\base\\model.py:508: ConvergenceWarning: Maximum Likelihood optimization failed to converge. Check mle_retvals\n",
      "  \"Check mle_retvals\", ConvergenceWarning)\n"
     ]
    },
    {
     "name": "stdout",
     "output_type": "stream",
     "text": [
      "ARIMA (2, 1, 2) x (2, 2, 2, 12) : AIC = 356.23050836219625\n",
      "ARIMA (2, 2, 0) x (0, 0, 0, 12) : AIC = 1369.0975925410612\n",
      "ARIMA (2, 2, 0) x (0, 0, 1, 12) : AIC = 1175.8734145459666\n"
     ]
    },
    {
     "name": "stderr",
     "output_type": "stream",
     "text": [
      "C:\\Users\\kosta\\Anaconda3\\envs\\learn-env\\lib\\site-packages\\statsmodels\\base\\model.py:508: ConvergenceWarning: Maximum Likelihood optimization failed to converge. Check mle_retvals\n",
      "  \"Check mle_retvals\", ConvergenceWarning)\n"
     ]
    },
    {
     "name": "stdout",
     "output_type": "stream",
     "text": [
      "ARIMA (2, 2, 0) x (0, 0, 2, 12) : AIC = 1053.4684267354232\n",
      "ARIMA (2, 2, 0) x (0, 1, 0, 12) : AIC = 817.4093807760928\n",
      "ARIMA (2, 2, 0) x (0, 1, 1, 12) : AIC = 522.8306900944278\n",
      "ARIMA (2, 2, 0) x (0, 1, 2, 12) : AIC = 488.433848020085\n",
      "ARIMA (2, 2, 0) x (0, 2, 0, 12) : AIC = 1312.1054696803476\n"
     ]
    },
    {
     "name": "stderr",
     "output_type": "stream",
     "text": [
      "C:\\Users\\kosta\\Anaconda3\\envs\\learn-env\\lib\\site-packages\\statsmodels\\base\\model.py:508: ConvergenceWarning: Maximum Likelihood optimization failed to converge. Check mle_retvals\n",
      "  \"Check mle_retvals\", ConvergenceWarning)\n"
     ]
    },
    {
     "name": "stdout",
     "output_type": "stream",
     "text": [
      "ARIMA (2, 2, 0) x (0, 2, 1, 12) : AIC = 817.0412431650878\n",
      "ARIMA (2, 2, 0) x (0, 2, 2, 12) : AIC = 569.7399236834889\n",
      "ARIMA (2, 2, 0) x (1, 0, 0, 12) : AIC = 804.1219434587565\n",
      "ARIMA (2, 2, 0) x (1, 0, 1, 12) : AIC = 559.0842034744096\n",
      "ARIMA (2, 2, 0) x (1, 0, 2, 12) : AIC = 493.0760877605264\n",
      "ARIMA (2, 2, 0) x (1, 1, 0, 12) : AIC = 653.9408844630327\n",
      "ARIMA (2, 2, 0) x (1, 1, 1, 12) : AIC = 501.10945163278916\n",
      "ARIMA (2, 2, 0) x (1, 1, 2, 12) : AIC = 489.09586629369295\n",
      "ARIMA (2, 2, 0) x (1, 2, 0, 12) : AIC = 1008.2170902630935\n",
      "ARIMA (2, 2, 0) x (1, 2, 1, 12) : AIC = 693.7796115670023\n",
      "ARIMA (2, 2, 0) x (1, 2, 2, 12) : AIC = 548.0042086187692\n",
      "ARIMA (2, 2, 0) x (2, 0, 0, 12) : AIC = 651.7909332300496\n",
      "ARIMA (2, 2, 0) x (2, 0, 1, 12) : AIC = 493.503145607166\n",
      "ARIMA (2, 2, 0) x (2, 0, 2, 12) : AIC = 493.8374737781719\n",
      "ARIMA (2, 2, 0) x (2, 1, 0, 12) : AIC = 589.4365674879929\n",
      "ARIMA (2, 2, 0) x (2, 1, 1, 12) : AIC = 492.16946009662854\n",
      "ARIMA (2, 2, 0) x (2, 1, 2, 12) : AIC = 491.97616110607646\n",
      "ARIMA (2, 2, 0) x (2, 2, 0, 12) : AIC = 865.0631010192614\n",
      "ARIMA (2, 2, 0) x (2, 2, 1, 12) : AIC = 631.3058024230099\n",
      "ARIMA (2, 2, 0) x (2, 2, 2, 12) : AIC = 569.6890689107106\n",
      "ARIMA (2, 2, 1) x (0, 0, 0, 12) : AIC = 1205.5138635491135\n",
      "ARIMA (2, 2, 1) x (0, 0, 1, 12) : AIC = 1039.0777557203448\n"
     ]
    },
    {
     "name": "stderr",
     "output_type": "stream",
     "text": [
      "C:\\Users\\kosta\\Anaconda3\\envs\\learn-env\\lib\\site-packages\\statsmodels\\base\\model.py:508: ConvergenceWarning: Maximum Likelihood optimization failed to converge. Check mle_retvals\n",
      "  \"Check mle_retvals\", ConvergenceWarning)\n"
     ]
    },
    {
     "name": "stdout",
     "output_type": "stream",
     "text": [
      "ARIMA (2, 2, 1) x (0, 0, 2, 12) : AIC = 1119.1849536698255\n",
      "ARIMA (2, 2, 1) x (0, 1, 0, 12) : AIC = 595.6680087619368\n",
      "ARIMA (2, 2, 1) x (0, 1, 1, 12) : AIC = 314.7170085560471\n",
      "ARIMA (2, 2, 1) x (0, 1, 2, 12) : AIC = 286.4249702973723\n",
      "ARIMA (2, 2, 1) x (0, 2, 0, 12) : AIC = 1096.3579088804422\n",
      "ARIMA (2, 2, 1) x (0, 2, 1, 12) : AIC = 608.9727532159986\n",
      "ARIMA (2, 2, 1) x (0, 2, 2, 12) : AIC = 371.02527093860533\n",
      "ARIMA (2, 2, 1) x (1, 0, 0, 12) : AIC = 596.6891333185345\n"
     ]
    },
    {
     "name": "stderr",
     "output_type": "stream",
     "text": [
      "C:\\Users\\kosta\\Anaconda3\\envs\\learn-env\\lib\\site-packages\\statsmodels\\base\\model.py:508: ConvergenceWarning: Maximum Likelihood optimization failed to converge. Check mle_retvals\n",
      "  \"Check mle_retvals\", ConvergenceWarning)\n"
     ]
    },
    {
     "name": "stdout",
     "output_type": "stream",
     "text": [
      "ARIMA (2, 2, 1) x (1, 0, 1, 12) : AIC = 527.0463121248292\n"
     ]
    },
    {
     "name": "stderr",
     "output_type": "stream",
     "text": [
      "C:\\Users\\kosta\\Anaconda3\\envs\\learn-env\\lib\\site-packages\\statsmodels\\base\\model.py:508: ConvergenceWarning: Maximum Likelihood optimization failed to converge. Check mle_retvals\n",
      "  \"Check mle_retvals\", ConvergenceWarning)\n"
     ]
    },
    {
     "name": "stdout",
     "output_type": "stream",
     "text": [
      "ARIMA (2, 2, 1) x (1, 0, 2, 12) : AIC = 463.31360011800916\n",
      "ARIMA (2, 2, 1) x (1, 1, 0, 12) : AIC = 446.9926058905966\n",
      "ARIMA (2, 2, 1) x (1, 1, 1, 12) : AIC = 297.09273003817657\n",
      "ARIMA (2, 2, 1) x (1, 1, 2, 12) : AIC = 290.4633996041043\n",
      "ARIMA (2, 2, 1) x (1, 2, 0, 12) : AIC = 812.5946522094034\n",
      "ARIMA (2, 2, 1) x (1, 2, 1, 12) : AIC = 496.9058823805862\n",
      "ARIMA (2, 2, 1) x (1, 2, 2, 12) : AIC = 349.88500635186074\n",
      "ARIMA (2, 2, 1) x (2, 0, 0, 12) : AIC = 444.59016738875926\n"
     ]
    },
    {
     "name": "stderr",
     "output_type": "stream",
     "text": [
      "C:\\Users\\kosta\\Anaconda3\\envs\\learn-env\\lib\\site-packages\\statsmodels\\base\\model.py:508: ConvergenceWarning: Maximum Likelihood optimization failed to converge. Check mle_retvals\n",
      "  \"Check mle_retvals\", ConvergenceWarning)\n"
     ]
    },
    {
     "name": "stdout",
     "output_type": "stream",
     "text": [
      "ARIMA (2, 2, 1) x (2, 0, 1, 12) : AIC = 462.17914821108707\n"
     ]
    },
    {
     "name": "stderr",
     "output_type": "stream",
     "text": [
      "C:\\Users\\kosta\\Anaconda3\\envs\\learn-env\\lib\\site-packages\\statsmodels\\base\\model.py:508: ConvergenceWarning: Maximum Likelihood optimization failed to converge. Check mle_retvals\n",
      "  \"Check mle_retvals\", ConvergenceWarning)\n"
     ]
    },
    {
     "name": "stdout",
     "output_type": "stream",
     "text": [
      "ARIMA (2, 2, 1) x (2, 0, 2, 12) : AIC = 517.091777019844\n",
      "ARIMA (2, 2, 1) x (2, 1, 0, 12) : AIC = 373.13503871294256\n",
      "ARIMA (2, 2, 1) x (2, 1, 1, 12) : AIC = 295.49714553571073\n",
      "ARIMA (2, 2, 1) x (2, 1, 2, 12) : AIC = 293.49260842459506\n",
      "ARIMA (2, 2, 1) x (2, 2, 0, 12) : AIC = 660.0653770777374\n",
      "ARIMA (2, 2, 1) x (2, 2, 1, 12) : AIC = 425.14162578460804\n",
      "ARIMA (2, 2, 1) x (2, 2, 2, 12) : AIC = 378.2812785595461\n",
      "ARIMA (2, 2, 2) x (0, 0, 0, 12) : AIC = 1212.9656586920396\n",
      "ARIMA (2, 2, 2) x (0, 0, 1, 12) : AIC = 1052.7395211937383\n",
      "ARIMA (2, 2, 2) x (0, 0, 2, 12) : AIC = 1003.1440617444111\n",
      "ARIMA (2, 2, 2) x (0, 1, 0, 12) : AIC = 571.7396087030291\n",
      "ARIMA (2, 2, 2) x (0, 1, 1, 12) : AIC = 302.15245532937877\n",
      "ARIMA (2, 2, 2) x (0, 1, 2, 12) : AIC = 282.21199493116114\n",
      "ARIMA (2, 2, 2) x (0, 2, 0, 12) : AIC = 1082.4427023217893\n",
      "ARIMA (2, 2, 2) x (0, 2, 1, 12) : AIC = 597.3360447794201\n"
     ]
    },
    {
     "name": "stderr",
     "output_type": "stream",
     "text": [
      "C:\\Users\\kosta\\Anaconda3\\envs\\learn-env\\lib\\site-packages\\statsmodels\\base\\model.py:508: ConvergenceWarning: Maximum Likelihood optimization failed to converge. Check mle_retvals\n",
      "  \"Check mle_retvals\", ConvergenceWarning)\n"
     ]
    },
    {
     "name": "stdout",
     "output_type": "stream",
     "text": [
      "ARIMA (2, 2, 2) x (0, 2, 2, 12) : AIC = 356.82379007216093\n",
      "ARIMA (2, 2, 2) x (1, 0, 0, 12) : AIC = 586.2457934151149\n"
     ]
    },
    {
     "name": "stderr",
     "output_type": "stream",
     "text": [
      "C:\\Users\\kosta\\Anaconda3\\envs\\learn-env\\lib\\site-packages\\statsmodels\\base\\model.py:508: ConvergenceWarning: Maximum Likelihood optimization failed to converge. Check mle_retvals\n",
      "  \"Check mle_retvals\", ConvergenceWarning)\n"
     ]
    },
    {
     "name": "stdout",
     "output_type": "stream",
     "text": [
      "ARIMA (2, 2, 2) x (1, 0, 1, 12) : AIC = 327.3047177341508\n"
     ]
    },
    {
     "name": "stderr",
     "output_type": "stream",
     "text": [
      "C:\\Users\\kosta\\Anaconda3\\envs\\learn-env\\lib\\site-packages\\statsmodels\\base\\model.py:508: ConvergenceWarning: Maximum Likelihood optimization failed to converge. Check mle_retvals\n",
      "  \"Check mle_retvals\", ConvergenceWarning)\n"
     ]
    },
    {
     "name": "stdout",
     "output_type": "stream",
     "text": [
      "ARIMA (2, 2, 2) x (1, 0, 2, 12) : AIC = 286.6145737773296\n",
      "ARIMA (2, 2, 2) x (1, 1, 0, 12) : AIC = 440.0015145253745\n"
     ]
    },
    {
     "name": "stderr",
     "output_type": "stream",
     "text": [
      "C:\\Users\\kosta\\Anaconda3\\envs\\learn-env\\lib\\site-packages\\statsmodels\\base\\model.py:508: ConvergenceWarning: Maximum Likelihood optimization failed to converge. Check mle_retvals\n",
      "  \"Check mle_retvals\", ConvergenceWarning)\n"
     ]
    },
    {
     "name": "stdout",
     "output_type": "stream",
     "text": [
      "ARIMA (2, 2, 2) x (1, 1, 1, 12) : AIC = 289.7504320249112\n"
     ]
    },
    {
     "name": "stderr",
     "output_type": "stream",
     "text": [
      "C:\\Users\\kosta\\Anaconda3\\envs\\learn-env\\lib\\site-packages\\statsmodels\\base\\model.py:508: ConvergenceWarning: Maximum Likelihood optimization failed to converge. Check mle_retvals\n",
      "  \"Check mle_retvals\", ConvergenceWarning)\n"
     ]
    },
    {
     "name": "stdout",
     "output_type": "stream",
     "text": [
      "ARIMA (2, 2, 2) x (1, 1, 2, 12) : AIC = 281.5207825440622\n",
      "ARIMA (2, 2, 2) x (1, 2, 0, 12) : AIC = 816.1036030020722\n",
      "ARIMA (2, 2, 2) x (1, 2, 1, 12) : AIC = 486.51300500706054\n"
     ]
    },
    {
     "name": "stderr",
     "output_type": "stream",
     "text": [
      "C:\\Users\\kosta\\Anaconda3\\envs\\learn-env\\lib\\site-packages\\statsmodels\\base\\model.py:508: ConvergenceWarning: Maximum Likelihood optimization failed to converge. Check mle_retvals\n",
      "  \"Check mle_retvals\", ConvergenceWarning)\n"
     ]
    },
    {
     "name": "stdout",
     "output_type": "stream",
     "text": [
      "ARIMA (2, 2, 2) x (1, 2, 2, 12) : AIC = 350.74297361018944\n",
      "ARIMA (2, 2, 2) x (2, 0, 0, 12) : AIC = 439.0348114636633\n"
     ]
    },
    {
     "name": "stderr",
     "output_type": "stream",
     "text": [
      "C:\\Users\\kosta\\Anaconda3\\envs\\learn-env\\lib\\site-packages\\statsmodels\\base\\model.py:508: ConvergenceWarning: Maximum Likelihood optimization failed to converge. Check mle_retvals\n",
      "  \"Check mle_retvals\", ConvergenceWarning)\n"
     ]
    },
    {
     "name": "stdout",
     "output_type": "stream",
     "text": [
      "ARIMA (2, 2, 2) x (2, 0, 1, 12) : AIC = 287.0438416137212\n"
     ]
    },
    {
     "name": "stderr",
     "output_type": "stream",
     "text": [
      "C:\\Users\\kosta\\Anaconda3\\envs\\learn-env\\lib\\site-packages\\statsmodels\\base\\model.py:508: ConvergenceWarning: Maximum Likelihood optimization failed to converge. Check mle_retvals\n",
      "  \"Check mle_retvals\", ConvergenceWarning)\n"
     ]
    },
    {
     "name": "stdout",
     "output_type": "stream",
     "text": [
      "ARIMA (2, 2, 2) x (2, 0, 2, 12) : AIC = 291.545123690317\n",
      "ARIMA (2, 2, 2) x (2, 1, 0, 12) : AIC = 365.9916643640772\n"
     ]
    },
    {
     "name": "stderr",
     "output_type": "stream",
     "text": [
      "C:\\Users\\kosta\\Anaconda3\\envs\\learn-env\\lib\\site-packages\\statsmodels\\base\\model.py:508: ConvergenceWarning: Maximum Likelihood optimization failed to converge. Check mle_retvals\n",
      "  \"Check mle_retvals\", ConvergenceWarning)\n"
     ]
    },
    {
     "name": "stdout",
     "output_type": "stream",
     "text": [
      "ARIMA (2, 2, 2) x (2, 1, 1, 12) : AIC = 288.10325709326855\n"
     ]
    },
    {
     "name": "stderr",
     "output_type": "stream",
     "text": [
      "C:\\Users\\kosta\\Anaconda3\\envs\\learn-env\\lib\\site-packages\\statsmodels\\base\\model.py:508: ConvergenceWarning: Maximum Likelihood optimization failed to converge. Check mle_retvals\n",
      "  \"Check mle_retvals\", ConvergenceWarning)\n"
     ]
    },
    {
     "name": "stdout",
     "output_type": "stream",
     "text": [
      "ARIMA (2, 2, 2) x (2, 1, 2, 12) : AIC = 285.628216604954\n",
      "ARIMA (2, 2, 2) x (2, 2, 0, 12) : AIC = 653.8886757072362\n",
      "ARIMA (2, 2, 2) x (2, 2, 1, 12) : AIC = 418.1683433368115\n"
     ]
    },
    {
     "name": "stderr",
     "output_type": "stream",
     "text": [
      "C:\\Users\\kosta\\Anaconda3\\envs\\learn-env\\lib\\site-packages\\statsmodels\\base\\model.py:508: ConvergenceWarning: Maximum Likelihood optimization failed to converge. Check mle_retvals\n",
      "  \"Check mle_retvals\", ConvergenceWarning)\n"
     ]
    },
    {
     "name": "stdout",
     "output_type": "stream",
     "text": [
      "ARIMA (2, 2, 2) x (2, 2, 2, 12) : AIC = 369.95830728458355\n"
     ]
    }
   ],
   "source": [
    "# Run a grid with pdq and seasonal pdq parameters calculated above and get the best AIC value\n",
    "results=[]\n",
    "for a in pdq:\n",
    "    for b in pdqs:\n",
    "        try:\n",
    "            model=sm.tsa.statespace.SARIMAX(CO2_monthly,order=a,seasonal_order=b,enforce_stationarity=False,enforce_invertibility=False)\n",
    "            output=model.fit()\n",
    "            results.append([a,b,output.aic])\n",
    "            print(f'ARIMA {a} x {b} : AIC = {output.aic}')\n",
    "        except:\n",
    "            continue\n",
    "            \n",
    "            \n",
    "# ARIMA(0, 0, 0)x(0, 0, 1, 12)12 - AIC:6787.34362403487\n",
    "# ARIMA(0, 0, 0)x(0, 1, 1, 12)12 - AIC:1596.7111727637512\n",
    "# ARIMA(0, 0, 0)x(1, 0, 0, 12)12 - AIC:1058.9388921320024\n",
    "#     .\n",
    "#     .\n",
    "#     .\n",
    "#     .\n",
    "# ARIMA(1, 1, 1)x(1, 0, 1, 12)12 - AIC:327.9049164493077\n",
    "# ARIMA(1, 1, 1)x(1, 1, 0, 12)12 - AIC:444.1243686483202\n",
    "# ARIMA(1, 1, 1)x(1, 1, 1, 12)12 - AIC:277.78021965631604    "
   ]
  },
  {
   "cell_type": "code",
   "execution_count": 58,
   "metadata": {},
   "outputs": [
    {
     "data": {
      "text/plain": [
       "[]"
      ]
     },
     "execution_count": 58,
     "metadata": {},
     "output_type": "execute_result"
    }
   ],
   "source": [
    "results"
   ]
  },
  {
   "cell_type": "code",
   "execution_count": 5,
   "metadata": {},
   "outputs": [],
   "source": [
    "# Find the parameters with minimal AIC value.\n",
    "\n",
    "\n",
    "\n",
    "# pdq         (1, 1, 1)\n",
    "# pdqs    (1, 1, 1, 12)\n",
    "# aic            277.78\n",
    "# Name: 59, dtype: object"
   ]
  },
  {
   "cell_type": "markdown",
   "metadata": {},
   "source": [
    "The output of our code suggests that `ARIMA(1, 1, 1)x(1, 1, 1, 12)` yields the lowest AIC value of `277.78`. We should therefore consider this to be optimal option out of all the models we have considered."
   ]
  },
  {
   "cell_type": "markdown",
   "metadata": {},
   "source": [
    "## Fitting an ARIMA Time Series Model\n",
    "\n",
    "Using grid search, we have identified the set of parameters that produces the best fitting model to our time series data. We can proceed to analyze this particular model in more depth.\n",
    "\n",
    "We'll start by plugging the optimal parameter values into a new SARIMAX model."
   ]
  },
  {
   "cell_type": "code",
   "execution_count": 6,
   "metadata": {},
   "outputs": [],
   "source": [
    "# plug the optimal parameter values into a new SARIMAX model.\n",
    "\n",
    "# Fit the model and print results\n",
    "\n",
    "# ==============================================================================\n",
    "#                  coef    std err          z      P>|z|      [0.025      0.975]\n",
    "# ------------------------------------------------------------------------------\n",
    "# ar.L1          0.3182      0.092      3.442      0.001       0.137       0.499\n",
    "# ma.L1         -0.6254      0.077     -8.163      0.000      -0.776      -0.475\n",
    "# ar.S.L12       0.0010      0.001      1.732      0.083      -0.000       0.002\n",
    "# ma.S.L12      -0.8769      0.026    -33.812      0.000      -0.928      -0.826\n",
    "# sigma2         0.0972      0.004     22.632      0.000       0.089       0.106\n",
    "# =============================================================================="
   ]
  },
  {
   "cell_type": "markdown",
   "metadata": {},
   "source": [
    "The model returns a lot of information, but we'll focus only on the table of coefficients. The `coef` column above shows the importance of each feature and how each one impacts the time series patterns.  The **P>|z|** provides  the significance of each feature weight. \n",
    "\n",
    "For our time-series, we see that each weight has a p-value lower or close to 0.05, so it is reasonable to retain all of them in our model.\n",
    "\n",
    "Next, we shall run model diagnostics to ensure that none of the assumptions made by the model have been violated. \n",
    "\n",
    "The `plot_diagnostics()` function on ARIMA output below:"
   ]
  },
  {
   "cell_type": "code",
   "execution_count": 7,
   "metadata": {},
   "outputs": [],
   "source": [
    "# Use plot_diagnostics with results calculated above.\n"
   ]
  },
  {
   "cell_type": "markdown",
   "metadata": {},
   "source": [
    "The purpose here to ensure that residuals remain un-correlated, normally distributed having zero mean. In the absence of these assumptions, we can not move forward and need further tweating of the model. \n",
    "\n",
    "Let's check for these assumptions from diagnostics plots.\n",
    "\n",
    "* In the top right plot, we see that the red KDE line follows closely with the N(0,1) line (where N(0,1)) is the standard notation for a normal distribution with mean 0 and standard deviation of 1). This is a good indication that the residuals are normally distributed.\n",
    "\n",
    "* The qq-plot on the bottom left shows that the ordered distribution of residuals (blue dots) follows the linear trend of the samples taken from a standard normal distribution with N(0, 1). Again, this is a strong indication that the residuals are normally distributed.\n",
    "\n",
    "* The residuals over time (top left plot) don't display any obvious seasonality and appear to be white noise. This is confirmed by the autocorrelation (i.e. correlogram) plot on the bottom right, which shows that the time series residuals have low correlation with lagged versions of itself.\n",
    "\n",
    "Those observations lead us to conclude that our model produces has no correlations and provides a satisfactory fit to help forecast future values.\n"
   ]
  },
  {
   "cell_type": "markdown",
   "metadata": {},
   "source": [
    "## Validating the Model\n",
    "\n",
    "### One-step Ahead Forecasting\n",
    "\n",
    "In order to validate the model, we start by comparing predicted values to real values of the time series, which will help us understand the accuracy of our forecasts. \n",
    "\n",
    "The `get_prediction()` and `conf_int()` attributes allow us to obtain the values and associated confidence intervals for forecasts of the time series.\n",
    "\n",
    "\n",
    "[Documentation of `get_predictions()`](http://www.statsmodels.org/dev/generated/statsmodels.tsa.statespace.sarimax.SARIMAXResults.get_prediction.html)\n",
    "\n",
    "[Documentation for `conf_int()`](http://www.statsmodels.org/dev/generated/statsmodels.tsa.arima_model.ARIMAResults.conf_int.html)\n",
    "\n",
    "* Get the predictions from 1st January 1998 till 2002 ( end of time-series)\n",
    "\n",
    "* Get the confidence intervals for all predictions.\n",
    "\n",
    "* For `get_predictions()`, set the `dynamic` parameter to False to ensures that we produce one-step ahead forecasts, meaning that forecasts at each point are generated using the full history up to that point.\n",
    "\n",
    "\n"
   ]
  },
  {
   "cell_type": "code",
   "execution_count": 8,
   "metadata": {},
   "outputs": [],
   "source": [
    "# Get predictions starting from 01-01-1998 and calculate confidence intervals.\n",
    "\n",
    "prediction = None\n",
    "pred_conf = None"
   ]
  },
  {
   "cell_type": "markdown",
   "metadata": {},
   "source": [
    "We shall now plot the real and forecasted values of the CO2 time series to assess how well we did. \n",
    "\n",
    "* Plot the observed values from the dataset, starting at 1990.\n",
    "* Use `predicted_mean.plot()` with `prediction` to plot predictions.\n",
    "* Plot the confidence intervals overlapping the predicted values.\n"
   ]
  },
  {
   "cell_type": "code",
   "execution_count": 9,
   "metadata": {},
   "outputs": [],
   "source": [
    "# Plot real vs predicted values along with confidence interval\n",
    "\n",
    "# Plot observed values\n",
    "\n",
    "# Plot predicted values\n",
    "\n",
    "# Plot the range for confidence intervals\n",
    "\n",
    "# Set axes labels\n"
   ]
  },
  {
   "cell_type": "markdown",
   "metadata": {},
   "source": [
    "The forecasts align with the true values  as seen above,with overall increase trend. We shall also check for the accuracy of our forecasts using  **MSE (Mean Squared Error)**. This will provide us with the average error of our forecasts. For each predicted value, we compute its distance to the true value and square the result. The results need to be squared so that positive/negative differences do not cancel each other out when we compute the overall mean."
   ]
  },
  {
   "cell_type": "code",
   "execution_count": 10,
   "metadata": {},
   "outputs": [],
   "source": [
    "# Get the Real and predicted values\n",
    "CO2_forecasted = None\n",
    "CO2_truth = None\n",
    "\n",
    "# Compute the mean square error\n",
    "mse = None\n",
    "\n",
    "#print('The Mean Squared Error of our forecasts is {}'.format(round(mse, 2)))\n",
    "\n",
    "# The Mean Squared Error of our forecasts is 0.07"
   ]
  },
  {
   "cell_type": "markdown",
   "metadata": {},
   "source": [
    "The MSE of our one-step ahead forecasts yields a value of 0.07, which is very low as it is close to 0. An MSE of 0 would that the estimator is predicting observations of the parameter with perfect accuracy, which would be an ideal scenario but it not typically possible.\n",
    "\n",
    "### Dynamic Forecasting\n",
    "\n",
    "We can achieve a deeper insight into model's predictive power using dynamic forecasts. In this case, we only use information from the time series up to a certain point, and after that, forecasts are generated using values from previous forecasted time points.\n",
    "\n",
    "Repeat above calculation for predictions post 1998. Use Dynamic forecasting by setting `dynamic` to True."
   ]
  },
  {
   "cell_type": "code",
   "execution_count": 11,
   "metadata": {},
   "outputs": [],
   "source": [
    "# Get dynamic predictions with confidence intervals as above.\n",
    "pred_dynamic = None\n",
    "pred_dynamic_conf = None"
   ]
  },
  {
   "cell_type": "markdown",
   "metadata": {},
   "source": [
    "Plotting the observed and forecasted values of the time series, we see that the overall forecasts are accurate even when using dynamic forecasts. All forecasted values (red line) match pretty closely to the ground truth (blue line), and are well within the confidence intervals of our forecast.\n",
    "\n"
   ]
  },
  {
   "cell_type": "code",
   "execution_count": 12,
   "metadata": {},
   "outputs": [],
   "source": [
    "# Plot the dynamic forecast with confidence intervals as above"
   ]
  },
  {
   "cell_type": "markdown",
   "metadata": {},
   "source": [
    "Once again, we quantify the predictive performance of our forecasts by computing the MSE."
   ]
  },
  {
   "cell_type": "code",
   "execution_count": 13,
   "metadata": {},
   "outputs": [],
   "source": [
    "# Extract the predicted and true values of our time series\n",
    "CO2_forecasted = None\n",
    "CO2_truth = None\n",
    "\n",
    "# Compute the mean square error\n",
    "mse = None\n",
    "# print('The Mean Squared Error of our forecasts is {}'.format(round(mse, 2)))\n",
    "\n",
    "# The Mean Squared Error of our forecasts is 1.01"
   ]
  },
  {
   "cell_type": "markdown",
   "metadata": {},
   "source": [
    "The predicted values obtained from the dynamic forecasts yield an MSE of 1.01. This is slightly higher than the one-step ahead, which is to be expected given that we are relying on less historical data from the time series.\n",
    "\n",
    "Both the one-step ahead and dynamic forecasts confirm that this time series model is valid. However, much of the interest around time series forecasting is the ability to forecast future values way ahead in time.\n",
    "\n"
   ]
  },
  {
   "cell_type": "markdown",
   "metadata": {},
   "source": [
    "## Producing and Visualizing Forecasts\n",
    "\n",
    "We will now describe how to leverage our seasonal ARIMA time series model to forecast future values. The `get_forecast()` attribute of our time series object can compute forecasted values for a specified number of steps ahead."
   ]
  },
  {
   "cell_type": "code",
   "execution_count": 14,
   "metadata": {},
   "outputs": [],
   "source": [
    "# Get forecast 500 steps ahead in future\n",
    "prediction = None\n",
    "# Get confidence intervals of forecasts\n",
    "pred_conf = None"
   ]
  },
  {
   "cell_type": "markdown",
   "metadata": {},
   "source": [
    "We can use the output of this code to plot the time series and forecasts of its future values.\n",
    "\n"
   ]
  },
  {
   "cell_type": "code",
   "execution_count": 15,
   "metadata": {},
   "outputs": [],
   "source": [
    "# Plot future predictions with confidence intervals\n"
   ]
  },
  {
   "cell_type": "markdown",
   "metadata": {},
   "source": [
    "Both the forecasts and associated confidence interval that we have generated can now be used to further understand the time series and foresee what to expect. Our forecasts show that the time series is expected to continue increasing at a steady pace.\n",
    "\n",
    "As we forecast further out into the future, it is natural for us to become less confident in our values. This is reflected by the confidence intervals generated by our model, which grow larger as we move further out into the future.\n",
    "\n"
   ]
  },
  {
   "cell_type": "markdown",
   "metadata": {},
   "source": [
    "## Bonus Exercises\n",
    "\n",
    "* Change the start date of your dynamic forecasts to see how this affects the overall quality of your forecasts.\n",
    "* Try more combinations of parameters to see if you can improve the goodness-of-fit of your model.\n",
    "* Select a different metric to select the best model. For example, we used the AIC measure to find the best model, but you could seek to optimize the out-of-sample mean square error instead.\n",
    "\n",
    "\n",
    "## Summary\n",
    "\n",
    "In this lab, we described how to implement a seasonal ARIMA model in Python. We made extensive use of the pandas and statsmodels libraries and showed how to run model diagnostics, as well as how to produce forecasts of the CO2 time series."
   ]
  }
 ],
 "metadata": {
  "kernelspec": {
   "display_name": "Python 3",
   "language": "python",
   "name": "python3"
  },
  "language_info": {
   "codemirror_mode": {
    "name": "ipython",
    "version": 3
   },
   "file_extension": ".py",
   "mimetype": "text/x-python",
   "name": "python",
   "nbconvert_exporter": "python",
   "pygments_lexer": "ipython3",
   "version": "3.6.6"
  }
 },
 "nbformat": 4,
 "nbformat_minor": 2
}
